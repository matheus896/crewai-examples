{
  "nbformat": 4,
  "nbformat_minor": 0,
  "metadata": {
    "colab": {
      "provenance": [],
      "authorship_tag": "ABX9TyMt+/ZeWeB1DlMvgQAgq8oY",
      "include_colab_link": true
    },
    "kernelspec": {
      "name": "python3",
      "display_name": "Python 3"
    },
    "language_info": {
      "name": "python"
    }
  },
  "cells": [
    {
      "cell_type": "markdown",
      "metadata": {
        "id": "view-in-github",
        "colab_type": "text"
      },
      "source": [
        "<a href=\"https://colab.research.google.com/github/matheus896/crewai-examples/blob/main/Pesquisa_e_Reda%C3%A7%C3%A3o_de_Artigos_sobre_um_%22t%C3%B3pico%22.ipynb\" target=\"_parent\"><img src=\"https://colab.research.google.com/assets/colab-badge.svg\" alt=\"Open In Colab\"/></a>"
      ]
    },
    {
      "cell_type": "code",
      "execution_count": null,
      "metadata": {
        "id": "S9fM15X6Qh9V"
      },
      "outputs": [],
      "source": [
        "!pip install crewai\n",
        "!pip install -qU duckduckgo-search langchain-community\n",
        "!pip install litellm"
      ]
    },
    {
      "cell_type": "code",
      "source": [
        "import os\n",
        "from crewai import Agent, Crew, Process, Task, LLM\n",
        "from langchain_community.tools import DuckDuckGoSearchRun\n",
        "from litellm import completion\n",
        "\n",
        "#LLM\n",
        "\n",
        "os.environ[\"GEMINI_API_KEY\"] = \"SUA_API_KEY\"\n",
        "\n",
        "llm = LLM (\n",
        "    model = 'gemini/gemini-1.5-flash',\n",
        "    temperature=0.2,\n",
        "    api_key=\"SUA_API_KEY\"\n",
        "    )\n",
        "\n",
        "# Tópico que será utilizado na execução da equipe\n",
        "tema = 'Impacto de Agentes inteligentes no futuro da humanidade'"
      ],
      "metadata": {
        "id": "jfZE90dvQp6G"
      },
      "execution_count": 5,
      "outputs": []
    },
    {
      "cell_type": "markdown",
      "source": [
        "# Agentes"
      ],
      "metadata": {
        "id": "xyvLyiGqRZJE"
      }
    },
    {
      "cell_type": "code",
      "source": [
        "# Criando um agente pesquisador sênior\n",
        "pesquisador = Agent(\n",
        "    role='Pesquisador Sênior',\n",
        "    goal=f'Descobrir tecnologias inovadoras relacionadas a {tema}',\n",
        "    verbose=True,\n",
        "    memory=True,\n",
        "    llm = llm,\n",
        "    backstory=\"\"\"\n",
        "    Movido pela curiosidade, você está na vanguarda da inovação,\n",
        "    ansioso para explorar e compartilhar conhecimentos que possam\n",
        "    mudar o mundo.\n",
        "    \"\"\"\n",
        ")\n",
        "\n",
        "# Criando um agente escritor\n",
        "escritor = Agent(\n",
        "    role='Escritor',\n",
        "    goal=f'Narrar histórias convincentes sobre tecnologia relacionada a {tema}',\n",
        "    verbose=True,\n",
        "    memory=True,\n",
        "    llm = llm,\n",
        "    backstory=\"\"\"\n",
        "    Com um talento para simplificar tópicos complexos, você cria\n",
        "    narrativas envolventes que cativam e educam, trazendo novas\n",
        "    descobertas à luz de maneira acessível.\n",
        "    \"\"\"\n",
        ")"
      ],
      "metadata": {
        "id": "eOKQmG2AQp8S"
      },
      "execution_count": 7,
      "outputs": []
    },
    {
      "cell_type": "markdown",
      "source": [
        "# Tool"
      ],
      "metadata": {
        "id": "1FQ0xhJfRbko"
      }
    },
    {
      "cell_type": "code",
      "source": [
        "# Ferramenta de busca DuckDuckGo da comunidade LangChain\n",
        "search_tool = DuckDuckGoSearchRun()"
      ],
      "metadata": {
        "id": "VTnwWF_GQp-g"
      },
      "execution_count": 8,
      "outputs": []
    },
    {
      "cell_type": "markdown",
      "source": [
        "# Tasks"
      ],
      "metadata": {
        "id": "teA6IV6VRh7j"
      }
    },
    {
      "cell_type": "code",
      "source": [
        "# Tarefa de pesquisa para identificar tendências de IA\n",
        "research_task = Task(\n",
        "    description=f\"\"\"\n",
        "    Identificar a próxima grande tendência em {tema}.\n",
        "    Focar em identificar prós e contras e a narrativa geral.\n",
        "    O relatório final deve articular claramente os pontos principais,\n",
        "    as oportunidades de mercado e os riscos potenciais.\n",
        "    \"\"\",\n",
        "    expected_output='Um relatório abrangente de 3 parágrafos sobre as últimas tendências de IA em portugues BR.',\n",
        "    max_inter=3,\n",
        "    tools=[search_tool],\n",
        "    agent=pesquisador\n",
        ")\n",
        "\n",
        "# Tarefa de escrita baseada nas descobertas da pesquisa\n",
        "write_task = Task(\n",
        "    description=f\"\"\"\n",
        "    Compor um artigo perspicaz sobre {tema}. Focar nas últimas\n",
        "    tendências e em como estão impactando a indústria.\n",
        "    Este artigo deve ser de fácil compreensão, envolvente e positivo.\n",
        "    \"\"\",\n",
        "    expected_output=f'Um artigo de 4 parágrafos sobre os avanços em {tema} em portugues BR.',\n",
        "    tools=[search_tool],\n",
        "    agent=escritor,\n",
        "    context = [research_task]\n",
        ")"
      ],
      "metadata": {
        "id": "M0WoGQSgRhhK"
      },
      "execution_count": 13,
      "outputs": []
    },
    {
      "cell_type": "markdown",
      "source": [
        "# Crew"
      ],
      "metadata": {
        "id": "dMCfk-LrRnP7"
      }
    },
    {
      "cell_type": "code",
      "source": [
        "# Formando a equipe focada em tecnologia\n",
        "crew = Crew(\n",
        "    agents=[pesquisador, escritor],\n",
        "    tasks=[research_task, write_task],\n",
        "    process=Process.sequential  # Execução sequencial das tarefas\n",
        ")\n",
        "\n",
        "resultado = crew.kickoff()\n",
        "print(resultado)"
      ],
      "metadata": {
        "id": "67pPrAHJRhja"
      },
      "execution_count": null,
      "outputs": []
    },
    {
      "cell_type": "code",
      "source": [
        "from IPython.display import Markdown\n",
        "Markdown(resultado.raw)"
      ],
      "metadata": {
        "colab": {
          "base_uri": "https://localhost:8080/",
          "height": 351
        },
        "id": "kKhis3E_RnFx",
        "outputId": "3422ef17-f595-4ccb-d934-373d17078c85"
      },
      "execution_count": 15,
      "outputs": [
        {
          "output_type": "execute_result",
          "data": {
            "text/plain": [
              "<IPython.core.display.Markdown object>"
            ],
            "text/markdown": "## O Futuro Inteligente: Agentes Inteligentes Transformando a Humanidade\n\nA inteligência artificial (IA) está se tornando cada vez mais presente em nossas vidas, e os agentes inteligentes, programas capazes de aprender e tomar decisões autônomas, estão liderando essa revolução. A próxima grande onda de impacto dos agentes inteligentes é a sua crescente integração em diversos setores, desde o atendimento ao cliente até a tomada de decisões complexas em áreas como saúde e finanças. Essa integração promete otimizar processos, personalizar serviços e automatizar tarefas, liberando tempo e recursos para que os humanos se concentrem em atividades mais criativas e estratégicas.\n\nImagine um futuro onde chatbots inteligentes respondem às suas dúvidas com precisão e empatia, carros autônomos navegam pelas ruas com segurança e sistemas de saúde personalizados previnem doenças com base em seus dados genéticos. Essa é a promessa dos agentes inteligentes, que estão transformando a maneira como vivemos, trabalhamos e interagimos com o mundo. Essa transformação exige um olhar atento para as questões éticas e de segurança que surgem com o desenvolvimento da IA. É fundamental garantir que os agentes inteligentes sejam desenvolvidos de forma responsável, transparente e que priorizem o bem-estar da humanidade.\n\nA chave para um futuro próspero com a IA reside na colaboração entre pesquisadores, empresas e governos. É preciso investir em pesquisa e desenvolvimento para garantir que a IA seja utilizada de forma ética e segura, além de promover uma discussão aberta sobre o impacto social da IA. A regulamentação rigorosa e a criação de mecanismos de controle são essenciais para evitar riscos como a perda de empregos, a concentração de poder e a manipulação de informações.\n\nO futuro da humanidade está intrinsecamente ligado ao desenvolvimento da IA. Ao abraçar a inteligência artificial de forma responsável e ética, podemos construir um futuro mais próspero, eficiente e sustentável para todos. A jornada para um futuro inteligente está apenas começando, e cabe a nós garantir que essa jornada seja guiada por valores humanos e pela busca por um futuro melhor para todos."
          },
          "metadata": {},
          "execution_count": 15
        }
      ]
    },
    {
      "cell_type": "code",
      "source": [],
      "metadata": {
        "id": "gYFk88fZRnHy"
      },
      "execution_count": null,
      "outputs": []
    }
  ]
}