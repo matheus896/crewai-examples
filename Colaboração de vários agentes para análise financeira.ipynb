{
  "nbformat": 4,
  "nbformat_minor": 0,
  "metadata": {
    "colab": {
      "provenance": [],
      "authorship_tag": "ABX9TyMTbOLFS0+R3sKYI+x2a4fq",
      "include_colab_link": true
    },
    "kernelspec": {
      "name": "python3",
      "display_name": "Python 3"
    },
    "language_info": {
      "name": "python"
    }
  },
  "cells": [
    {
      "cell_type": "markdown",
      "metadata": {
        "id": "view-in-github",
        "colab_type": "text"
      },
      "source": [
        "<a href=\"https://colab.research.google.com/github/matheus896/crewai-examples/blob/main/Colabora%C3%A7%C3%A3o%20de%20v%C3%A1rios%20agentes%20para%20an%C3%A1lise%20financeira.ipynb\" target=\"_parent\"><img src=\"https://colab.research.google.com/assets/colab-badge.svg\" alt=\"Open In Colab\"/></a>"
      ]
    },
    {
      "cell_type": "code",
      "execution_count": null,
      "metadata": {
        "id": "3xejwEvHNzfX",
        "collapsed": true
      },
      "outputs": [],
      "source": [
        "!pip install crewai\n",
        "!pip install litellm\n",
        "!pip install crewai 'tools'"
      ]
    },
    {
      "cell_type": "code",
      "source": [
        "import os\n",
        "from crewai import Agent, Task, Crew,  Process, LLM\n",
        "from crewai_tools import ScrapeWebsiteTool, SerperDevTool"
      ],
      "metadata": {
        "id": "cuGdv3sGN3MG"
      },
      "execution_count": 29,
      "outputs": []
    },
    {
      "cell_type": "code",
      "source": [
        "# Suas chaves\n",
        "os.environ[\"GROQ_API_KEY\"] = \"SUA_API_KEY\"\n",
        "os.environ [\"SERPER_API_KEY\"] = \"SUA_API_KEY\"\n",
        "\n",
        "# LLMs\n",
        "llm = LLM (\n",
        "    model = 'groq/llama3-8b-8192',\n",
        "    temperature=0.2,\n",
        "    api_key=\"SUA_API_KEY\"\n",
        "    )"
      ],
      "metadata": {
        "id": "hKdx5lpIN3Oj"
      },
      "execution_count": 28,
      "outputs": []
    },
    {
      "cell_type": "code",
      "source": [
        "# Tools\n",
        "search_tool = SerperDevTool()\n",
        "scrape_tool = ScrapeWebsiteTool()"
      ],
      "metadata": {
        "id": "Rws42ENRN3RG"
      },
      "execution_count": 27,
      "outputs": []
    },
    {
      "cell_type": "code",
      "source": [
        "# Criando os Agentes\n",
        "\n",
        "data_analyst_agent = Agent(\n",
        "    role=\"Analista de Dados\",\n",
        "    goal=\"Monitorar e analisar dados de mercado em tempo real \"\n",
        "          \"para identificar tendências e prever movimentações de mercado.\",\n",
        "    backstory=\"Especializado em mercados financeiros, este agente \"\n",
        "              \"usa modelagem estatística e aprendizado de máquina \"\n",
        "              \"para fornecer insights cruciais. Com uma habilidade para dados, \"\n",
        "              \"o Agente Analista de Dados é a base para \"\n",
        "              \"informar as decisões de negociação.\",\n",
        "    verbose=True,\n",
        "    allow_delegation=True,\n",
        "    memory=True,\n",
        "    llm=llm,\n",
        "    tools = [scrape_tool, search_tool]\n",
        ")"
      ],
      "metadata": {
        "id": "rW-WJICDN3TY"
      },
      "execution_count": 26,
      "outputs": []
    },
    {
      "cell_type": "code",
      "source": [
        "trading_strategy_agent = Agent(\n",
        "    role=\"Desenvolvedor de Estratégias de Negociação\",\n",
        "    goal=\"Desenvolver e testar várias estratégias de negociação com base \"\n",
        "          \"nos insights do Agente Analista de Dados.\",\n",
        "    backstory=\"Equipado com um profundo entendimento dos \"\n",
        "              \"mercados financeiros e análise quantitativa, este agente \"\n",
        "              \"concebe e refina estratégias de negociação. Ele avalia \"\n",
        "              \"o desempenho de diferentes abordagens para determinar \"\n",
        "              \"as opções mais lucrativas e avessas ao risco.\",\n",
        "    verbose=True,\n",
        "    allow_delegation=True,\n",
        "    memory=True,\n",
        "    llm=llm,\n",
        "    tools = [scrape_tool, search_tool]\n",
        ")"
      ],
      "metadata": {
        "id": "DpAizD1ZN3V9"
      },
      "execution_count": 25,
      "outputs": []
    },
    {
      "cell_type": "code",
      "source": [
        "execution_agent = Agent(\n",
        "    role=\"Consultor comercial\",\n",
        "    goal=\"Sugerir estratégias ótimas de execução de negociação \"\n",
        "          \"com base nas estratégias de negociação aprovadas.\",\n",
        "    backstory=\"Este agente se especializa em analisar o momento, o preço \"\n",
        "              \"e os detalhes logísticos de potenciais negociações. Ao avaliar \"\n",
        "              \"esses fatores, ele fornece sugestões bem fundamentadas sobre \"\n",
        "              \"quando e como as negociações devem ser executadas para maximizar \"\n",
        "              \"a eficiência e a aderência à estratégia.\",\n",
        "    verbose=True,\n",
        "    allow_delegation=True,\n",
        "    memory=True,\n",
        "    llm=llm,\n",
        "    tools = [scrape_tool, search_tool]\n",
        ")"
      ],
      "metadata": {
        "id": "X3HfYmo3N3YL"
      },
      "execution_count": 24,
      "outputs": []
    },
    {
      "cell_type": "code",
      "source": [
        "risk_management_agent = Agent(\n",
        "    role=\"Consultor de Risco\",\n",
        "    goal=\"Avaliar e fornecer insights sobre os riscos \"\n",
        "          \"associados a potenciais atividades de negociação.\",\n",
        "    backstory=\"Armado com um profundo entendimento de modelos de avaliação \"\n",
        "              \"de risco e dinâmica de mercado, este agente analisa minuciosamente \"\n",
        "              \"os riscos potenciais das negociações propostas. Ele oferece uma \"\n",
        "              \"análise detalhada da exposição ao risco e sugere salvaguardas \"\n",
        "              \"para garantir que as atividades de negociação estejam alinhadas \"\n",
        "              \"com a tolerância ao risco da empresa.\",\n",
        "    verbose=True,\n",
        "    allow_delegation=True,\n",
        "    memory=True,\n",
        "    llm=llm,\n",
        "    tools = [scrape_tool, search_tool]\n",
        ")"
      ],
      "metadata": {
        "id": "adCdlFmzQR6Z"
      },
      "execution_count": 44,
      "outputs": []
    },
    {
      "cell_type": "code",
      "source": [
        "# Criando as Tasks\n",
        "\n",
        "# Tarefa para o Agente Analista de Dados: Analisar Dados de Mercado\n",
        "data_analysis_task = Task(\n",
        "    description=(\n",
        "        \"Monitorar e analisar continuamente os dados de mercado para \"\n",
        "        \"a ação selecionada ({stock_selection}). \"\n",
        "        \"Use modelagem estatística e aprendizado de máquina para \"\n",
        "        \"identificar tendências e prever movimentações de mercado.\"\n",
        "    ),\n",
        "    expected_output=(\n",
        "        \"Insights e alertas sobre oportunidades ou ameaças \"\n",
        "        \"significativas de mercado para {stock_selection}.\"\n",
        "    ),\n",
        "    agent=data_analyst_agent,\n",
        ")"
      ],
      "metadata": {
        "id": "9_tFDH77QR8t"
      },
      "execution_count": 45,
      "outputs": []
    },
    {
      "cell_type": "code",
      "source": [
        "# Tarefa para o Agente Desenvolvedor de Estratégias de Negociação: Desenvolver Estratégias de Negociação\n",
        "strategy_development_task = Task(\n",
        "    description=(\n",
        "        \"Desenvolver e refinar estratégias de negociação com base nos \"\n",
        "        \"insights do Analista de Dados e na tolerância ao risco \"\n",
        "        \"definida pelo usuário ({risk_tolerance}). \"\n",
        "        \"Considere as preferências de negociação ({trading_strategy_preference}).\"\n",
        "    ),\n",
        "    expected_output=(\n",
        "       \"Um conjunto de potenciais estratégias de negociação para {stock_selection} \"\n",
        "        \"que se alinhem com a tolerância ao risco do usuário.\"\n",
        "    ),\n",
        "    agent=trading_strategy_agent,\n",
        ")\n"
      ],
      "metadata": {
        "id": "-J6g6J-_RXw-"
      },
      "execution_count": 46,
      "outputs": []
    },
    {
      "cell_type": "code",
      "source": [
        "# Tarefa para o Agente Consultor comercial: Planejar a Execução de Negociação\n",
        "execution_planning_task = Task(\n",
        "    description=(\n",
        "        \"Analisar as estratégias de negociação aprovadas para determinar os \"\n",
        "        \"melhores métodos de execução para {stock_selection}, \"\n",
        "        \"considerando as condições de mercado atuais e o preço ideal.\"\n",
        "    ),\n",
        "    expected_output=(\n",
        "        \"Planos de execução detalhados sugerindo como e quando \"\n",
        "        \"executar as negociações para {stock_selection}.\"\n",
        "    ),\n",
        "    agent=execution_agent,\n",
        ")\n"
      ],
      "metadata": {
        "id": "89ihGUT2RXzI"
      },
      "execution_count": 47,
      "outputs": []
    },
    {
      "cell_type": "code",
      "source": [
        "# Tarefa para o Agente Consultor de Risco: Avaliar Riscos de Negociação\n",
        "risk_assessment_task = Task(\n",
        "    description=(\n",
        "        \"Avaliar os riscos associados às estratégias de negociação \"\n",
        "        \"propostas e aos planos de execução para {stock_selection}. \"\n",
        "        \"Fornecer uma análise detalhada dos riscos potenciais \"\n",
        "        \"e sugerir estratégias de mitigação.\"\n",
        "    ),\n",
        "    expected_output=(\n",
        "         \"Um relatório abrangente de análise de risco detalhando os \"\n",
        "         \"riscos potenciais e as recomendações de mitigação para {stock_selection}.\"\n",
        "    ),\n",
        "    agent=risk_management_agent,\n",
        "    context= [execution_planning_task, strategy_development_task, data_analysis_task]\n",
        ")"
      ],
      "metadata": {
        "id": "B-kiqtr3Rs-D"
      },
      "execution_count": 48,
      "outputs": []
    },
    {
      "cell_type": "code",
      "source": [
        "# Criando a Crew\n",
        "# Definir a equipe com agentes e tarefas\n",
        "\n",
        "financial_trading_crew = Crew(\n",
        "    agents=[data_analyst_agent,\n",
        "            trading_strategy_agent,\n",
        "            execution_agent,\n",
        "            risk_management_agent],\n",
        "\n",
        "    tasks=[data_analysis_task,\n",
        "           strategy_development_task,\n",
        "           execution_planning_task,\n",
        "           risk_assessment_task],\n",
        "    process=Process.sequential,\n",
        "    verbose=True\n",
        ")"
      ],
      "metadata": {
        "colab": {
          "base_uri": "https://localhost:8080/"
        },
        "id": "ywwYPW1zRtAo",
        "outputId": "d048a851-93cc-4f1f-8f97-83613f97f82b"
      },
      "execution_count": 49,
      "outputs": [
        {
          "output_type": "stream",
          "name": "stderr",
          "text": [
            "WARNING:opentelemetry.trace:Overriding of current TracerProvider is not allowed\n"
          ]
        }
      ]
    },
    {
      "cell_type": "code",
      "source": [
        "# Dados de exemplo para iniciar o processo\n",
        "\n",
        "financial_trading_inputs = {\n",
        "    'stock_selection': 'ITUB3',\n",
        "    'initial_capital': '100000',\n",
        "    'risk_tolerance': 'Medium',\n",
        "    'trading_strategy_preference': 'Day Trading',\n",
        "    'news_impact_consideration': True\n",
        "}"
      ],
      "metadata": {
        "id": "PlUcXB6nRtDL"
      },
      "execution_count": 50,
      "outputs": []
    },
    {
      "cell_type": "code",
      "source": [
        "### this execution will take some time to run\n",
        "result = financial_trading_crew.kickoff(inputs=financial_trading_inputs)"
      ],
      "metadata": {
        "id": "Hvswm1xhRtFl"
      },
      "execution_count": null,
      "outputs": []
    },
    {
      "cell_type": "code",
      "source": [
        "from IPython.display import Markdown\n",
        "\n",
        "# Access the 'raw' attribute of the CrewOutput object to get the text content.\n",
        "markdown_text = result.raw\n",
        "\n",
        "# Now, pass the markdown_text to the Markdown function.\n",
        "Markdown(markdown_text)"
      ],
      "metadata": {
        "colab": {
          "base_uri": "https://localhost:8080/",
          "height": 496
        },
        "id": "JBlKDqlMRX1c",
        "outputId": "b9fbbbfa-9490-4ecb-a4e2-25ef765d4041"
      },
      "execution_count": 66,
      "outputs": [
        {
          "output_type": "execute_result",
          "data": {
            "text/plain": [
              "<IPython.core.display.Markdown object>"
            ],
            "text/markdown": "**Risks Associated with the Proposed Negotiation Strategies for ITUB3**\n\nBased on the approved negotiation strategies for ITUB3, considering the current market conditions and the ideal price, I have identified the following potential risks and mitigation strategies:\n\n1. **Market Volatility Risk**: The stock price of ITUB3 is expected to fluctuate, which may impact the negotiation outcome. Mitigation strategy: Monitor market conditions closely and adjust the negotiation strategy accordingly.\n2. **Stakeholder Goals and Constraints Risk**: The goals and constraints of the key stakeholders involved in the negotiation may not align, which may lead to a failed negotiation. Mitigation strategy: Identify and understand the goals and constraints of the key stakeholders and develop a negotiation strategy that takes into account their needs.\n3. **Negotiation Strategy Risk**: The negotiation strategy may not be effective, leading to a failed negotiation. Mitigation strategy: Develop a comprehensive negotiation strategy that takes into account the current market conditions, the ideal price, and the goals and constraints of the key stakeholders.\n4. **Communication Risk**: Poor communication between the parties involved in the negotiation may lead to misunderstandings and a failed negotiation. Mitigation strategy: Establish clear communication channels and ensure that all parties involved in the negotiation are aware of the agreed-upon terms.\n5. **Time-Sensitive Risk**: The negotiation may not be completed within the desired timeframe, leading to a failed negotiation. Mitigation strategy: Set a realistic timeframe for the negotiation and ensure that all parties involved in the negotiation are aware of the deadline.\n\n**Recommendations**\n\nBased on the analysis of the potential risks and mitigation strategies, I recommend the following:\n\n1. Develop a comprehensive negotiation strategy that takes into account the current market conditions, the ideal price, and the goals and constraints of the key stakeholders.\n2. Monitor market conditions closely and adjust the negotiation strategy accordingly.\n3. Establish clear communication channels and ensure that all parties involved in the negotiation are aware of the agreed-upon terms.\n4. Set a realistic timeframe for the negotiation and ensure that all parties involved in the negotiation are aware of the deadline.\n\nBy following these recommendations, we can ensure that the negotiation is executed effectively and efficiently, and that the best possible outcome is achieved for all parties involved."
          },
          "metadata": {},
          "execution_count": 66
        }
      ]
    }
  ]
}