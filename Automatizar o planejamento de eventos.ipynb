{
  "nbformat": 4,
  "nbformat_minor": 0,
  "metadata": {
    "colab": {
      "provenance": [],
      "authorship_tag": "ABX9TyNvZiSZ02pvNmM8joKRA1Px",
      "include_colab_link": true
    },
    "kernelspec": {
      "name": "python3",
      "display_name": "Python 3"
    },
    "language_info": {
      "name": "python"
    }
  },
  "cells": [
    {
      "cell_type": "markdown",
      "metadata": {
        "id": "view-in-github",
        "colab_type": "text"
      },
      "source": [
        "<a href=\"https://colab.research.google.com/github/matheus896/crewai-examples/blob/main/Automatizar%20o%20planejamento%20de%20eventos.ipynb\" target=\"_parent\"><img src=\"https://colab.research.google.com/assets/colab-badge.svg\" alt=\"Open In Colab\"/></a>"
      ]
    },
    {
      "cell_type": "code",
      "execution_count": null,
      "metadata": {
        "collapsed": true,
        "id": "ixpUyCHY-6KF"
      },
      "outputs": [],
      "source": [
        "!pip install crewai\n",
        "!pip install litellm\n",
        "!pip install crewai 'tools'"
      ]
    },
    {
      "cell_type": "code",
      "source": [
        "import os\n",
        "from crewai import Agent, Task, Crew, LLM, Process\n",
        "from crewai_tools import ScrapeWebsiteTool, SerperDevTool"
      ],
      "metadata": {
        "id": "cugObfZS_z_J"
      },
      "execution_count": 53,
      "outputs": []
    },
    {
      "cell_type": "code",
      "source": [
        "# Suas chaves\n",
        "os.environ[\"GROQ_API_KEY\"] = \"SUA_API_KEY\"\n",
        "os.environ [\"SERPER_API_KEY\"] = \"SUA_API_KEY\"\n",
        "\n",
        "# LLM\n",
        "llm = LLM (\n",
        "    model = 'groq/llama3-8b-8192',\n",
        "    temperature=0.2,\n",
        "    api_key=\"GROQ_API_KEY\"\n",
        "    )"
      ],
      "metadata": {
        "id": "jia2j6tyBMVo"
      },
      "execution_count": 56,
      "outputs": []
    },
    {
      "cell_type": "code",
      "source": [
        "# Tools\n",
        "search_tool = SerperDevTool()\n",
        "scrape_tool = ScrapeWebsiteTool()"
      ],
      "metadata": {
        "id": "Yb2a5j9c_0Bm"
      },
      "execution_count": 57,
      "outputs": []
    },
    {
      "cell_type": "code",
      "source": [
        "# Agents\n",
        "\n",
        "# Agent 1: Coordenador de Eventos\n",
        "venue_coordinator = Agent(\n",
        "    role=\"Coordenador de Eventos\",\n",
        "    goal=\"Identificar e reservar um local apropriado \"\n",
        "    \"com base nos requisitos do evento\",\n",
        "    tools=[search_tool, scrape_tool],\n",
        "    verbose=True,\n",
        "    memory=True,\n",
        "    llm=llm,\n",
        "    backstory=(\n",
        "        \"Com um senso aguçado de espaço e \"\n",
        "        \"entendimento da logística de eventos, \"\n",
        "        \"você se destaca em encontrar e garantir \"\n",
        "        \"o local perfeito que se ajuste ao tema, \"\n",
        "        \"tamanho e restrições orçamentárias do evento.\"\n",
        "    )\n",
        ")"
      ],
      "metadata": {
        "id": "eps80U6N_0EG"
      },
      "execution_count": 58,
      "outputs": []
    },
    {
      "cell_type": "code",
      "source": [
        "# Agent 2: Gerente de Logística\n",
        "logistics_manager = Agent(\n",
        "    role='Gerente de Logística',\n",
        "    goal=(\n",
        "       \"Gerenciar toda a logística do evento \"\n",
        "        \"incluindo bufê e equipamentos\"\n",
        "    ),\n",
        "    tools=[search_tool, scrape_tool],\n",
        "    verbose=True,\n",
        "    memory=True,\n",
        "    llm = llm,\n",
        "    backstory=(\n",
        "        \"Organizado e detalhista, \"\n",
        "        \"você garante que todos os aspectos logísticos do evento, \"\n",
        "        \"desde o serviço de bufê até a configuração dos equipamentos, \"\n",
        "        \"sejam executados de forma impecável para criar uma experiência perfeita.\"\n",
        "    )\n",
        ")"
      ],
      "metadata": {
        "id": "0fsrDQWv_0Gf"
      },
      "execution_count": 59,
      "outputs": []
    },
    {
      "cell_type": "code",
      "source": [
        "# Agent 3: Marketing and Communications Agent\n",
        "marketing_communications_agent = Agent(\n",
        "    role=\"Marketing and Communications Agent\",\n",
        "    goal=\"Comercializar o evento de forma eficaz e\"\n",
        "         \"comunicar-se com os participantes\",\n",
        "    tools=[search_tool, scrape_tool],\n",
        "    verbose=True,\n",
        "    memory=True,\n",
        "    llm = llm,\n",
        "    backstory=(\n",
        "        \"Criativo e comunicativo, \"\n",
        "        \"você cria mensagens convincentes e \"\n",
        "        \"se envolve com potenciais participantes \"\n",
        "        \"para maximizar a exposição e a participação no evento.\"\n",
        "    )\n",
        ")"
      ],
      "metadata": {
        "id": "bliSKYf3CFqd"
      },
      "execution_count": 60,
      "outputs": []
    },
    {
      "cell_type": "code",
      "source": [
        "# Criação do objeto Pydantic Venue\n",
        "# Crie uma classe VenueDetails usando o Pydantic BaseModel.\n",
        "# Os agentes preencherão esse objeto com informações sobre diferentes locais, criando diferentes instâncias dele.\n",
        "\n",
        "from pydantic import BaseModel\n",
        "# Define a Pydantic model for venue details\n",
        "# (demonstrating Output as Pydantic)\n",
        "class VenueDetails(BaseModel):\n",
        "    name: str\n",
        "    address: str\n",
        "    capacity: int\n",
        "    booking_status: str"
      ],
      "metadata": {
        "id": "n6C7KgGzCFsy"
      },
      "execution_count": 61,
      "outputs": []
    },
    {
      "cell_type": "code",
      "source": [
        "\"\"\" Criando tarefas\n",
        " Ao usar `output_json`, você pode especificar a estrutura da saída desejada.\n",
        " Ao usar `output_file`, você pode obter a saída em um arquivo.\n",
        " Ao definir `human_input=True`, a tarefa solicitará feedback humano (se você gosta ou não dos resultados) antes de finalizá-la.\n",
        "\"\"\"\n",
        "venue_task = Task(\n",
        "    description=\"Encontre um local em {event_city} \"\n",
        "                \"que atenda aos critérios para {event_topic}.\",\n",
        "    expected_output=\"Todos os detalhes de um local específico \"\n",
        "                    \"que você encontrou para acomodar o evento.\",\n",
        "    human_input=True,\n",
        "    output_json=VenueDetails,\n",
        "    output_file=\"venue_details.json\",\n",
        "      # Outputs the venue details as a JSON file\n",
        "    agent=venue_coordinator\n",
        ")\n"
      ],
      "metadata": {
        "id": "sPkNT0w1DCA9"
      },
      "execution_count": 62,
      "outputs": []
    },
    {
      "cell_type": "code",
      "source": [
        "# Ao definir `async_execution=True`, isso significa que a tarefa pode ser executada em paralelo com as tarefas que vêm depois dela.\n",
        "\n",
        "logistics_task = Task(\n",
        "    description=\"Coordenar o serviço de bufê e \"\n",
        "                  \"os equipamentos para um evento \"\n",
        "                  \"com {expected_participants} participantes \"\n",
        "                  \"em {tentative_date}.\",\n",
        "    expected_output=\"Confirmation of all logistics arrangements \"\n",
        "                    \"including catering and equipment setup.\",\n",
        "    human_input=True,\n",
        "    context= [venue_task],\n",
        "    agent=logistics_manager\n",
        ")"
      ],
      "metadata": {
        "id": "0nVIHX36DCDR"
      },
      "execution_count": 63,
      "outputs": []
    },
    {
      "cell_type": "code",
      "source": [
        "marketing_task = Task(\n",
        "    description=\"Promover o {event_topic} \"\n",
        "                \"com o objetivo de engajar pelo menos \"\n",
        "                \"{expected_participants} potenciais participantes.\",\n",
        "    expected_output=\"Relatório sobre as atividades de marketing \"\n",
        "                  \"e o engajamento dos participantes formatado em markdown.\",\n",
        "    async_execution=True,\n",
        "    context= [logistics_task, venue_task],\n",
        "    output_file=\"marketing_report.md\",  # Gera o relatório em um arquivo de texto\n",
        "    agent=marketing_communications_agent\n",
        ")"
      ],
      "metadata": {
        "id": "iIkUz7PjDCFt"
      },
      "execution_count": 64,
      "outputs": []
    },
    {
      "cell_type": "code",
      "source": [
        "# Criando a Crew\n",
        "# **Nota**: Como definimos `async_execution=True` para as tarefas `logistics_task` e `marketing_task`, agora a ordem delas não importa na lista `tasks`.\n",
        "\n",
        "event_management_crew = Crew(\n",
        "    agents=[venue_coordinator,\n",
        "            logistics_manager,\n",
        "            marketing_communications_agent],\n",
        "\n",
        "    tasks=[venue_task,\n",
        "           logistics_task,\n",
        "           marketing_task],\n",
        "    verbose=True\n",
        ")\n"
      ],
      "metadata": {
        "colab": {
          "base_uri": "https://localhost:8080/"
        },
        "id": "rmeExU0SEaXI",
        "outputId": "3e0c7441-3f58-4257-f02a-7dedeac1e824"
      },
      "execution_count": 65,
      "outputs": [
        {
          "output_type": "stream",
          "name": "stderr",
          "text": [
            "WARNING:opentelemetry.trace:Overriding of current TracerProvider is not allowed\n"
          ]
        }
      ]
    },
    {
      "cell_type": "code",
      "source": [
        "# Rodando a Crew com os inputs delimitados\n",
        "\n",
        "event_details = {\n",
        "    'event_topic': \"Conferência de Inovação Tecnológica\",\n",
        "    'event_description': \"Um encontro de inovadores em tecnologia \"\n",
        "                         \"e líderes do setor \"\n",
        "                         \"para explorar tecnologias futuras.\",\n",
        "    'event_city': \"São Paulo\",\n",
        "    'tentative_date': \"2024-12-23\",\n",
        "    'expected_participants': 500,\n",
        "    'budget': 20000,\n",
        "    'venue_type': \"Vibra São Paulo\"\n",
        "}\n",
        "\n",
        "\"\"\"**Nota 2**:\n",
        "- Como está `human_input=True` para algumas tarefas, a execução solicitará sua opinião antes de terminar a execução.\n",
        "- Quando ele solicitar feedback, use o ponteiro do mouse para clicar primeiro na caixa de texto antes de digitar qualquer coisa.\n",
        "\"\"\""
      ],
      "metadata": {
        "colab": {
          "base_uri": "https://localhost:8080/",
          "height": 70
        },
        "id": "IVBSSwc2EaZk",
        "outputId": "c33e3c2c-f1e0-4792-9376-f0cf5bc74fed"
      },
      "execution_count": 66,
      "outputs": [
        {
          "output_type": "execute_result",
          "data": {
            "text/plain": [
              "'**Nota 2**: \\n- Como está `human_input=True` para algumas tarefas, a execução solicitará sua opinião antes de terminar a execução.\\n- Quando ele solicitar feedback, use o ponteiro do mouse para clicar primeiro na caixa de texto antes de digitar qualquer coisa.\\n'"
            ],
            "application/vnd.google.colaboratory.intrinsic+json": {
              "type": "string"
            }
          },
          "metadata": {},
          "execution_count": 66
        }
      ]
    },
    {
      "cell_type": "code",
      "source": [
        "result = event_management_crew.kickoff(inputs=event_details)"
      ],
      "metadata": {
        "id": "zaBoWdhJFODh"
      },
      "execution_count": null,
      "outputs": []
    },
    {
      "cell_type": "code",
      "source": [
        "# Exibir o arquivo gerado `venue_details.json`.\n",
        "\n",
        "import json\n",
        "from pprint import pprint\n",
        "\n",
        "with open('venue_details.json') as f:\n",
        "   data = json.load(f)\n",
        "\n",
        "pprint(data)"
      ],
      "metadata": {
        "colab": {
          "base_uri": "https://localhost:8080/"
        },
        "id": "fW_P7fUkFoLt",
        "outputId": "55e1fd89-fb2b-4905-de64-d96d81cbc89a"
      },
      "execution_count": 68,
      "outputs": [
        {
          "output_type": "stream",
          "name": "stdout",
          "text": [
            "{'address': 'São Paulo',\n",
            " 'booking_status': 'available',\n",
            " 'capacity': 500,\n",
            " 'name': 'InterContinental São Paulo'}\n"
          ]
        }
      ]
    },
    {
      "cell_type": "code",
      "source": [
        "\"\"\"\n",
        "Exiba o arquivo `marketing_report.md` gerado.\n",
        "**Nota**: Depois que a execução do `kickoff` for bem-sucedida, aguarde mais 45 segundos para que o arquivo `marketing_report.md` seja gerado.\n",
        "Se você tentar executar o código abaixo antes de o arquivo ter sido gerado, sua saída será semelhante a:\n",
        "marketing_report.md\n",
        "Se você vir essa saída, espere mais um pouco e tente novamente.\n",
        "\"\"\""
      ],
      "metadata": {
        "id": "KRVPmvZwFuo7"
      },
      "execution_count": null,
      "outputs": []
    },
    {
      "cell_type": "code",
      "source": [
        "from IPython.display import Markdown\n",
        "Markdown(\"marketing_report.md\")"
      ],
      "metadata": {
        "colab": {
          "base_uri": "https://localhost:8080/",
          "height": 445
        },
        "id": "4zO_kpKYF_3f",
        "outputId": "2f1336e0-9a21-4476-ceb6-83b1cbd512c7"
      },
      "execution_count": 69,
      "outputs": [
        {
          "output_type": "execute_result",
          "data": {
            "text/plain": [
              "<IPython.core.display.Markdown object>"
            ],
            "text/markdown": "**Marketing Strategies for the Technological Innovation Conference**\n\nTo promote the Technological Innovation Conference and engage at least 500 potential participants, I will implement the following marketing strategies:\n\n1. **Identify the Target Audience**: Identify the key stakeholders, including industry experts, researchers, and professionals, who would be interested in attending the conference.\n2. **Create a Killer Conference Website**: Design a user-friendly website that provides all the necessary information about the conference, including the agenda, speakers, and registration details.\n3. **Social Media Promotion**: Utilize social media platforms, such as Twitter, LinkedIn, and Facebook, to promote the conference and engage with potential attendees.\n4. **Email Marketing**: Send targeted email campaigns to the identified audience, highlighting the benefits of attending the conference and providing updates on the agenda and speakers.\n5. **Influencer Marketing**: Partner with industry influencers and thought leaders to promote the conference and attract a wider audience.\n6. **Content Marketing**: Create informative and engaging content, such as blog posts, whitepapers, and webinars, to educate potential attendees about the conference and its topics.\n7. **Paid Advertising**: Use targeted online advertising, such as Google Ads and LinkedIn Ads, to reach a wider audience and drive traffic to the conference website.\n8. **Networking Opportunities**: Provide opportunities for attendees to network and connect with each other, such as through social media groups and online forums.\n9. **Sponsorship and Partnerships**: Partner with relevant organizations and companies to sponsor the conference and provide additional value to attendees.\n10. **Post-Event Follow-up**: Follow up with attendees after the conference to gather feedback and provide additional resources and information.\n\nBy implementing these marketing strategies, I am confident that we can attract at least 500 potential participants to the Technological Innovation Conference and make it a successful and engaging event."
          },
          "metadata": {},
          "execution_count": 69
        }
      ]
    }
  ]
}