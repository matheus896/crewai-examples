{
  "cells": [
    {
      "cell_type": "markdown",
      "metadata": {
        "id": "view-in-github",
        "colab_type": "text"
      },
      "source": [
        "<a href=\"https://colab.research.google.com/github/matheus896/crewai-examples/blob/main/Mentoria_CrewAI_Prof_Sandeco_Roteiro_Youtube.ipynb\" target=\"_parent\"><img src=\"https://colab.research.google.com/assets/colab-badge.svg\" alt=\"Open In Colab\"/></a>"
      ]
    },
    {
      "cell_type": "code",
      "execution_count": null,
      "metadata": {
        "id": "E2DRCw215Km8"
      },
      "outputs": [],
      "source": [
        "!pip install --q dotenv\n",
        "!pip install --q litellm\n",
        "!pip install --q crewai\n",
        "!pip install --q 'crewai[tools]'"
      ]
    },
    {
      "cell_type": "code",
      "execution_count": 38,
      "metadata": {
        "id": "HroEwhg96PrN"
      },
      "outputs": [],
      "source": [
        "import os\n",
        "from crewai import Agent, Task, Crew, Process, LLM\n",
        "from dotenv import load_dotenv\n",
        "from crewai_tools import SerperDevTool, DallETool\n",
        "from litellm import completion"
      ]
    },
    {
      "cell_type": "code",
      "execution_count": 90,
      "metadata": {
        "id": "OWuUcDFx6UR6"
      },
      "outputs": [],
      "source": [
        "# Carregar as variáveis de ambiente do arquivo .env\n",
        "load_dotenv()\n",
        "\n",
        "# Inicializar o modelo OpenAI\n",
        "llm = LLM (\n",
        "    model = 'gemini/gemini-1.5-flash',\n",
        "    temperature=0.2\n",
        "    )"
      ]
    },
    {
      "cell_type": "markdown",
      "source": [
        "#TOOLS"
      ],
      "metadata": {
        "id": "WBtaiP9qVhMo"
      }
    },
    {
      "cell_type": "code",
      "source": [
        "# Ferramenta de pesquisa na internet\n",
        "search_tool = SerperDevTool()"
      ],
      "metadata": {
        "id": "hBbdajgXVc3g"
      },
      "execution_count": 91,
      "outputs": []
    },
    {
      "cell_type": "markdown",
      "source": [
        "#AGENTES"
      ],
      "metadata": {
        "id": "_EXnWR4YW13e"
      }
    },
    {
      "cell_type": "markdown",
      "source": [
        " - Pesquisador da web\n",
        " - Escritor de título\n",
        " - Roterista\n",
        " - Especialista em SEO\n",
        " - Revisor\n"
      ],
      "metadata": {
        "id": "6xcESVKdW524"
      }
    },
    {
      "cell_type": "markdown",
      "source": [
        "#PESQUISADOR"
      ],
      "metadata": {
        "id": "jJNFOixVnV4x"
      }
    },
    {
      "cell_type": "code",
      "source": [
        "pesquisador = Agent(\n",
        "    role='Pesquisador de Tema',\n",
        "    goal='Pesquisar informações detalhadas sobre {tema} na internet',\n",
        "    backstory=(\n",
        "        \"Você é um especialista em pesquisa, com habilidades aguçadas para \"\n",
        "        \"encontrar informações valiosas e detalhadas na internet.\"\n",
        "    ),\n",
        "    verbose=True,\n",
        "    memory=True,\n",
        "    tools=[search_tool],\n",
        "    llm=llm\n",
        ")"
      ],
      "metadata": {
        "id": "IrofcqMiW4L4"
      },
      "execution_count": 92,
      "outputs": []
    },
    {
      "cell_type": "code",
      "source": [
        "tarefa_pesquisa = Task(\n",
        "    description=(\n",
        "        \"Pesquisar informações detalhadas e relevantes sobre o tema: {tema}. \"\n",
        "        \"Concentre-se em aspectos únicos e dados importantes que podem enriquecer o vídeo. \"\n",
        "        \"Todo o texto deve estar em Português Brasil.\"\n",
        "    ),\n",
        "    expected_output='Um documento com as principais informações e dados sobre {tema}.',\n",
        "    tools=[search_tool],\n",
        "    agent=pesquisador\n",
        ")"
      ],
      "metadata": {
        "id": "Uz-3rjKqcdlA"
      },
      "execution_count": 93,
      "outputs": []
    },
    {
      "cell_type": "markdown",
      "source": [
        "#ESCRITOR TÍTULO"
      ],
      "metadata": {
        "id": "SxK1WH2AnYs7"
      }
    },
    {
      "cell_type": "code",
      "source": [
        "# 2. Agente Escritor de Títulos\n",
        "escritor_titulos = Agent(\n",
        "    role='Escritor de Títulos de Vídeo',\n",
        "    goal='Criar títulos atraentes e otimizados para vídeos sobre {tema}',\n",
        "    verbose=True,\n",
        "    memory=True,\n",
        "    backstory=(\n",
        "        \"Você tem uma habilidade especial para criar títulos que capturam a \"\n",
        "        \"essência de um vídeo e atraem a atenção do público.\"\n",
        "    ),\n",
        "    llm=llm\n",
        ")"
      ],
      "metadata": {
        "id": "h8xqXP1GbWYY"
      },
      "execution_count": 94,
      "outputs": []
    },
    {
      "cell_type": "code",
      "source": [
        "tarefa_titulos = Task(\n",
        "    description=(\n",
        "        \"Criar títulos atraentes e otimizados para o vídeo sobre o tema: {tema}. \"\n",
        "        \"Certifique-se de que o título seja cativante e esteja otimizado para SEO. \"\n",
        "        \"Todo o texto deve estar em Português Brasil.\"\n",
        "    ),\n",
        "    expected_output='Um título otimizado para o vídeo sobre {tema}.',\n",
        "    agent=escritor_titulos,\n",
        "    context = [tarefa_pesquisa]\n",
        ")"
      ],
      "metadata": {
        "id": "Rkf7_QL4MpZa"
      },
      "execution_count": 95,
      "outputs": []
    },
    {
      "cell_type": "markdown",
      "source": [
        "#Roteirista"
      ],
      "metadata": {
        "id": "gXu-EOVWMrEr"
      }
    },
    {
      "cell_type": "code",
      "source": [
        "# 3. Agente Escritor de Roteiro\n",
        "escritor_roteiro = Agent(\n",
        "    role='Escritor de Roteiro',\n",
        "    goal='Escrever um roteiro detalhado e envolvente para um vídeo sobre {tema}',\n",
        "    verbose=True,\n",
        "    memory=True,\n",
        "    backstory=\n",
        "        f\"\"\"Você é um contador de histórias talentoso, capaz de transformar\n",
        "        informações em narrativas cativantes para vídeos.\"\"\"\n",
        "    ,\n",
        "    llm=llm\n",
        ")\n"
      ],
      "metadata": {
        "id": "qPMTNRfDbi_r"
      },
      "execution_count": 96,
      "outputs": []
    },
    {
      "cell_type": "code",
      "source": [
        "# 3. Tarefa de Escrita de Roteiro\n",
        "tarefa_roteiro = Task(\n",
        "    description=(\n",
        "        \"Escrever um roteiro detalhado para o vídeo sobre o tema: {tema}. \"\n",
        "        \"O roteiro deve ser envolvente e fornecer um fluxo lógico de informações. \"\n",
        "        \"Se necessário, especifique imagens que podem enriquecer o conteúdo. \"\n",
        "        \"Todo o texto deve estar em Português Brasil.\"\n",
        "    ),\n",
        "    expected_output='Um roteiro completo e bem estruturado para o vídeo sobre {tema}.',\n",
        "    agent=escritor_roteiro,\n",
        "    context = [tarefa_titulos, tarefa_pesquisa]\n",
        "\n",
        ")"
      ],
      "metadata": {
        "id": "cMP7gE9nfYS0"
      },
      "execution_count": 97,
      "outputs": []
    },
    {
      "cell_type": "markdown",
      "source": [
        "#Especialista em SEO"
      ],
      "metadata": {
        "id": "SMuEsn3NMNNX"
      }
    },
    {
      "cell_type": "code",
      "source": [
        "# 4. Agente Especialista em SEO para YouTube\n",
        "especialista_seo = Agent(\n",
        "    role='Especialista em SEO para YouTube',\n",
        "    goal='Otimizar o roteiro e o título para que o vídeo tenha uma alta performance no YouTube',\n",
        "    verbose=True,\n",
        "    memory=True,\n",
        "    backstory=(\n",
        "        \"Você é um expert em SEO, com um profundo entendimento das melhores \"\n",
        "        \"práticas para otimizar conteúdo para o YouTube.\"\n",
        "    ),\n",
        "    llm=llm\n",
        ")"
      ],
      "metadata": {
        "id": "uZwrB2cNcFGn"
      },
      "execution_count": 98,
      "outputs": []
    },
    {
      "cell_type": "code",
      "source": [
        "# 4. Tarefa de SEO para YouTube\n",
        "tarefa_seo = Task(\n",
        "    description=(\n",
        "        \"Otimizar o título e o roteiro do vídeo para que tenha uma alta performance no YouTube. \"\n",
        "        \"Incorporar as melhores práticas de SEO para garantir uma boa classificação e visibilidade. \"\n",
        "        \"Crie hashtags, palavras-chaves e tags de vídeo para youtube. \"\n",
        "        \"Todo o texto deve estar em Português Brasil.\"\n",
        "    ),\n",
        "    expected_output='Roteiro e título otimizados para o vídeo sobre {tema}, prontos para publicação no YouTube.',\n",
        "    agent=especialista_seo,\n",
        "    context = [tarefa_roteiro, tarefa_titulos, tarefa_pesquisa]\n",
        ")"
      ],
      "metadata": {
        "id": "szCinXMigHVC"
      },
      "execution_count": 99,
      "outputs": []
    },
    {
      "cell_type": "markdown",
      "source": [
        "#Revisor"
      ],
      "metadata": {
        "id": "z3U17WyeNCSh"
      }
    },
    {
      "cell_type": "code",
      "source": [
        "# 7. Agente Revisor\n",
        "revisor = Agent(\n",
        "    role='Revisor de Conteúdo',\n",
        "    goal='Revisar todo o conteúdo produzido e entregar a versão final ao usuário',\n",
        "    verbose=True,\n",
        "    memory=True,\n",
        "    backstory=(\n",
        "        \"Você tem um olho afiado para detalhes, garantindo que todo o conteúdo \"\n",
        "        \"esteja perfeito antes de ser entregue ao usuário.\"\n",
        "    ),\n",
        "    llm=llm\n",
        ")"
      ],
      "metadata": {
        "id": "_--nSPNHcaYI"
      },
      "execution_count": 100,
      "outputs": []
    },
    {
      "cell_type": "code",
      "source": [
        "# 7. Tarefa de Revisão e Entrega\n",
        "tarefa_revisao = Task(\n",
        "    description=(\n",
        "        \"Revisar todo o conteúdo produzido (título, roteiro, e otimização de SEO), \"\n",
        "        \"preparar a versão final para entrega ao usuário.\"\n",
        "        \"Todo o texto deve estar em Português Brasil.\"\n",
        "    ),\n",
        "    expected_output='Conteúdo revisado, pronto para entrega ao usuário.',\n",
        "    agent=revisor,\n",
        "    output_file='output_teste.md', # Configurando o output para salvar em um arquivo Markdown\n",
        "    context = [tarefa_seo, tarefa_roteiro, tarefa_titulos, tarefa_pesquisa]\n",
        ")"
      ],
      "metadata": {
        "id": "MW9Czcssg8OS"
      },
      "execution_count": 101,
      "outputs": []
    },
    {
      "cell_type": "markdown",
      "source": [
        "#Crew"
      ],
      "metadata": {
        "id": "w2ka_KPriEmc"
      }
    },
    {
      "cell_type": "code",
      "source": [
        "# Formando a crew\n",
        "crew = Crew(\n",
        "    agents=[\n",
        "        pesquisador,\n",
        "        escritor_titulos,\n",
        "        escritor_roteiro,\n",
        "        especialista_seo,\n",
        "        revisor\n",
        "    ],\n",
        "    tasks=\n",
        "    [\n",
        "        tarefa_pesquisa,\n",
        "        tarefa_titulos,\n",
        "        tarefa_roteiro,\n",
        "        tarefa_seo,\n",
        "        tarefa_revisao\n",
        "    ],\n",
        "    process=Process.sequential, # Processamento sequencial das tarefas\n",
        "    Verbose = True\n",
        ")\n"
      ],
      "metadata": {
        "colab": {
          "base_uri": "https://localhost:8080/"
        },
        "id": "SLVXGpo1h95r",
        "outputId": "a092d042-7d67-4f5a-b977-e171a811ee41"
      },
      "execution_count": 102,
      "outputs": [
        {
          "output_type": "stream",
          "name": "stderr",
          "text": [
            "WARNING:opentelemetry.trace:Overriding of current TracerProvider is not allowed\n"
          ]
        }
      ]
    },
    {
      "cell_type": "markdown",
      "source": [
        "#SOLICITAÇÃO DO TEMA AO USUÁRIO"
      ],
      "metadata": {
        "id": "oNmUIZrDNW73"
      }
    },
    {
      "cell_type": "code",
      "source": [
        "tema_user = input(\"Digite o tema do vídeo: \")"
      ],
      "metadata": {
        "colab": {
          "base_uri": "https://localhost:8080/"
        },
        "id": "XlukzTUhjJl9",
        "outputId": "01029614-51c3-45dc-9b8f-534130898111"
      },
      "execution_count": 103,
      "outputs": [
        {
          "name": "stdout",
          "output_type": "stream",
          "text": [
            "Digite o tema do vídeo: Multi-agentes com CrewAI\n"
          ]
        }
      ]
    },
    {
      "cell_type": "code",
      "source": [
        "print(tema_user)"
      ],
      "metadata": {
        "colab": {
          "base_uri": "https://localhost:8080/"
        },
        "id": "uEepzHCYjURT",
        "outputId": "30d41d48-46e7-41b4-c747-28f93002532a"
      },
      "execution_count": 104,
      "outputs": [
        {
          "output_type": "stream",
          "name": "stdout",
          "text": [
            "Multi-agentes com CrewAI\n"
          ]
        }
      ]
    },
    {
      "cell_type": "code",
      "source": [
        "# Executando o processo com o tema escolhido\n",
        "result = crew.kickoff(inputs={'tema': tema_user})"
      ],
      "metadata": {
        "id": "O9H8HA-BitCr"
      },
      "execution_count": null,
      "outputs": []
    },
    {
      "cell_type": "code",
      "source": [
        "from IPython.display import Markdown\n",
        "Markdown(result.raw)"
      ],
      "metadata": {
        "id": "HnfLzF8lmdXm",
        "outputId": "3a433c9a-e2a6-40bc-8aad-a08871960dc1",
        "colab": {
          "base_uri": "https://localhost:8080/",
          "height": 1000
        }
      },
      "execution_count": 106,
      "outputs": [
        {
          "output_type": "execute_result",
          "data": {
            "text/plain": [
              "<IPython.core.display.Markdown object>"
            ],
            "text/markdown": "## CrewAI: Multi-agentes para Automatizar Seus Processos e Impulsionar o Negócio!\n\n**Introdução (0:00-0:30):**\n\n* **Imagens:** Sequência rápida de imagens mostrando tarefas complexas e repetitivas em diversos setores (atendimento ao cliente, análise de dados, gerenciamento de estoque).\n* **Narração:** \"Em um mundo cada vez mais digital e acelerado, empresas buscam soluções para automatizar tarefas complexas e otimizar seus processos. Mas como lidar com a complexidade de fluxos de trabalho que exigem múltiplos passos e interações?\"\n* **Transição:** \"A resposta está na inteligência artificial e na tecnologia de multi-agentes. Imagine um sistema onde agentes inteligentes, cada um com suas habilidades específicas, trabalham em conjunto para realizar tarefas complexas de forma eficiente e automatizada.\"\n\n**Apresentação da CrewAI (0:30-1:00):**\n\n* **Imagens:** Logo da CrewAI, animação gráfica mostrando a plataforma de código aberto.\n* **Narração:** \"CrewAI é uma plataforma inovadora que permite a criação e gerenciamento de sistemas de multi-agentes, utilizando inteligência artificial para revolucionar a automação de tarefas complexas. Com CrewAI, você pode criar agentes de IA personalizados, cada um com suas próprias habilidades e funções específicas.\"\n\n**Funcionalidades da CrewAI (1:00-1:45):**\n\n* **Imagens:** Animação gráfica mostrando os recursos da CrewAI:\n    * **Criação de Agentes:** Mostrar a personalização de agentes com diferentes habilidades e funções.\n    * **Orquestração de Agentes:** Demonstrar a coordenação de múltiplos agentes trabalhando em conjunto.\n    * **Comunicação entre Agentes:** Visualizar a troca de informações entre os agentes.\n    * **Gerenciamento de Memória:** Mostrar como os agentes armazenam e acessam informações.\n    * **Integração com Ferramentas Externas:** Exibir a conexão com buscadores web, modelos de linguagem, etc.\n    * **Funcionalidades Avançadas:** Destacar recursos como webhooks, suporte gRPC e integração com APIs.\n* **Narração:** \"Esses agentes podem se comunicar entre si, compartilhar informações e colaborar para alcançar objetivos comuns. A plataforma oferece recursos avançados de gerenciamento de memória, integração com ferramentas externas e funcionalidades que garantem a robustez e escalabilidade do sistema.\"\n\n**Aplicações Práticas (1:45-2:30):**\n\n* **Imagens:** Mostrar exemplos práticos de como a CrewAI pode ser utilizada em diferentes setores:\n    * **Automação de Processos de Negócios:** Mostrar a otimização de tarefas como análise de dados, geração de relatórios e atendimento ao cliente.\n    * **Desenvolvimento de Chatbots Inteligentes:** Demonstrar a criação de chatbots que conversam com usuários de forma natural e personalizada.\n    * **Geração de Conteúdo Automatizado:** Exibir a criação automática de artigos, posts de blog e descrições de produtos.\n    * **Pesquisa e Análise de Dados:** Mostrar a coleta, análise e interpretação automatizada de dados.\n* **Narração:** \"CrewAI oferece uma solução completa para automatizar tarefas complexas em diversos setores. Desde a otimização de processos de negócios até a criação de chatbots inteligentes e a geração de conteúdo automatizado, a plataforma oferece um leque de possibilidades para impulsionar a eficiência e a produtividade.\"\n\n**Benefícios da CrewAI (2:30-3:00):**\n\n* **Imagens:** Mostrar os benefícios do uso da CrewAI:\n    * **Automação de Tarefas Complexas:** Destacar a liberação de tempo e recursos para outras atividades.\n    * **Aumento da Eficiência:** Mostrar a otimização do desempenho das tarefas e a redução de erros.\n    * **Escalabilidade:** Demonstrar a capacidade de adaptação do sistema às necessidades de diferentes projetos.\n    * **Flexibilidade:** Mostrar a personalização de agentes para atender às necessidades específicas de cada aplicação.\n* **Narração:** \"Com CrewAI, você pode automatizar tarefas complexas, aumentar a eficiência, escalar seus sistemas e personalizar soluções para atender às necessidades específicas do seu negócio.\"\n\n**Considerações Importantes (3:00-3:30):**\n\n* **Imagens:** Mostrar os desafios e considerações importantes ao utilizar CrewAI:\n    * **Complexidade:** Mostrar a necessidade de conhecimento técnico em áreas como inteligência artificial e programação.\n    * **Custos:** Destacar os custos com infraestrutura, desenvolvimento e treinamento de agentes.\n    * **Segurança:** Enfatizar a importância da segurança dos dados e a proteção contra acesso não autorizado.\n* **Narração:** \"É importante lembrar que a criação de sistemas de multi-agentes pode ser complexa e envolver custos. A segurança dos dados também é crucial e deve ser priorizada.\"\n\n**Conclusão e Chamada para Ação (3:30-4:00):**\n\n* **Imagens:** Mostrar o site da CrewAI, com um call to action para os espectadores.\n* **Narração:** \"CrewAI é uma plataforma promissora que abre portas para um futuro de automação inteligente, onde a inteligência artificial colabora para alcançar resultados inovadores. Explore as possibilidades e descubra como CrewAI pode revolucionar o seu negócio. Visite o site da CrewAI para saber mais sobre a plataforma e como ela pode ajudar você a automatizar seus processos e impulsionar o seu negócio.\"\n\n**Textos na Tela:**\n\n* **CrewAI: Multi-agentes para automatizar seus processos e impulsionar o negócio!**\n* **Crie agentes de IA personalizados e transforme seus fluxos de trabalho.**\n* **Domine a automação com CrewAI: Guia completo de multi-agentes.**\n* **CrewAI: A plataforma de código aberto que revoluciona a automação de tarefas complexas.**\n* **Multi-agentes com CrewAI: Potencialize a eficiência e a escalabilidade do seu negócio.**\n\n**Chamadas para ação:**\n\n* Visite o site da CrewAI para saber mais.\n* Baixe o guia completo de multi-agentes com CrewAI.\n* Experimente a plataforma gratuitamente.\n\n**Hashtags:**\n\n* #CrewAI\n* #MultiAgentes\n* #Automação\n* #InteligênciaArtificial\n* #IA\n* #Tecnologia\n* #Negócios\n* #Eficiência\n* #Produtividade\n* #Inovação\n* #Futuro\n* #CódigoAberto\n* #Chatbots\n* #GeraçãoDeConteúdo\n* #AnáliseDeDados\n\n**Tags de Vídeo:**\n\n* CrewAI\n* Multi-agentes\n* Automação de processos\n* Inteligência artificial\n* Plataforma de código aberto\n* Chatbots inteligentes\n* Geração de conteúdo automatizado\n* Análise de dados\n* Eficiência e produtividade\n* Escalabilidade e flexibilidade\n* Segurança de dados\n* Benefícios da CrewAI\n* Considerações importantes\n* Call to action\n\n**Observações:**\n\n* O roteiro pode ser adaptado de acordo com a duração desejada do vídeo.\n* As imagens podem ser substituídas por outras que sejam mais adequadas ao tema.\n* É importante utilizar uma linguagem clara e objetiva, com foco em apresentar os benefícios e funcionalidades da CrewAI de forma fácil e compreensível.\n* A música de fundo e os efeitos sonoros devem ser escolhidos de forma a criar uma atmosfera positiva e envolvente.\n\n**Palavras-chave:**\n\n* CrewAI\n* Multi-agentes\n* Automação\n* Inteligência Artificial\n* IA\n* Plataforma de código aberto\n* Chatbots\n* Geração de conteúdo\n* Análise de dados\n* Eficiência\n* Produtividade\n* Escalabilidade\n* Flexibilidade\n* Segurança\n* Benefícios\n* Considerações\n* Call to action\n\n**Dicas:**\n\n* Use imagens de alta qualidade e animações atraentes para manter o público engajado.\n* Inclua um call to action claro e conciso no final do vídeo.\n* Promova seu vídeo nas redes sociais e em outros canais relevantes.\n* Monitore o desempenho do seu vídeo e faça ajustes conforme necessário.\n\nEspero que este roteiro otimizado e as dicas adicionais ajudem você a criar um vídeo de alta performance sobre CrewAI no YouTube!"
          },
          "metadata": {},
          "execution_count": 106
        }
      ]
    }
  ],
  "metadata": {
    "colab": {
      "provenance": [],
      "include_colab_link": true
    },
    "kernelspec": {
      "display_name": "Python 3",
      "name": "python3"
    },
    "language_info": {
      "name": "python"
    }
  },
  "nbformat": 4,
  "nbformat_minor": 0
}