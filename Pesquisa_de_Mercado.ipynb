{
  "nbformat": 4,
  "nbformat_minor": 0,
  "metadata": {
    "colab": {
      "provenance": [],
      "authorship_tag": "ABX9TyMK06RkA3wRVdxT/5ZjINCh",
      "include_colab_link": true
    },
    "kernelspec": {
      "name": "python3",
      "display_name": "Python 3"
    },
    "language_info": {
      "name": "python"
    }
  },
  "cells": [
    {
      "cell_type": "markdown",
      "metadata": {
        "id": "view-in-github",
        "colab_type": "text"
      },
      "source": [
        "<a href=\"https://colab.research.google.com/github/matheus896/crewai-examples/blob/main/Pesquisa_de_Mercado.ipynb\" target=\"_parent\"><img src=\"https://colab.research.google.com/assets/colab-badge.svg\" alt=\"Open In Colab\"/></a>"
      ]
    },
    {
      "cell_type": "code",
      "execution_count": null,
      "metadata": {
        "id": "Y8G9ZnHQDKPY"
      },
      "outputs": [],
      "source": [
        "!pip install crewai\n",
        "!pip install litellm"
      ]
    },
    {
      "cell_type": "code",
      "source": [
        "import os\n",
        "from crewai import Agent, Task, Process, Crew, LLM\n",
        "from litellm import completion\n",
        "\n",
        "# Carregar chave API\n",
        "os.environ[\"GROQ_API_KEY\"] = \"SUA_API_KEY\"\n",
        "\n",
        "# Configuração do modelo LLM\n",
        "llm = LLM (\n",
        "    model = \"groq/llama-3.2-90b-text-preview\", # Definindo seu modelo\n",
        "    api_key=\"SUA_API_KEY\",\n",
        "    temperature = 0.2\n",
        "    )\n",
        "\n",
        "# Solicita inputs do usuário para personalizar o projeto\n",
        "produto = input(\"Qual o nome do produto? \")\n",
        "publico_alvo = input(\"Descreva o público-alvo ideal para o produto: \")\n",
        "tecnologias = input(\"Quais tecnologias são necessárias para a produção? \")\n",
        "objetivo_negocio = input(\"Qual é o objetivo do negócio (ex: escalabilidade, lucro sustentável)? \")\n",
        "\n",
        "# Definição dos agentes em português\n",
        "analista_de_mercado = Agent(\n",
        "    role=\"Analista de Pesquisa de Mercado\",\n",
        "    goal=\"Descobrir o tamanho da demanda para meus produtos e sugerir como alcançar o maior público possível\",\n",
        "    backstory=\"\"\"Você é especialista em entender a demanda de mercado, o público-alvo e a concorrência.\n",
        "                 Isso é crucial para validar se uma ideia atende a uma necessidade de mercado e tem potencial para atrair uma ampla audiência.\n",
        "                 Você é bom em criar ideias sobre como apelar para o público mais amplo possível.\"\"\",\n",
        "    verbose=True,\n",
        "    allow_delegation=True,\n",
        "    memory=True,\n",
        "    llm=llm\n",
        ")\n",
        "\n",
        "especialista_tecnologia = Agent(\n",
        "    role=\"Especialista em Tecnologia\",\n",
        "    goal=\"Avaliar a viabilidade tecnológica da empresa e os tipos de tecnologias necessárias para o sucesso\",\n",
        "    backstory=\"\"\"Você é um visionário no campo da tecnologia, com uma compreensão profunda das tendências tecnológicas atuais e emergentes.\n",
        "                 Sua expertise vai além do conhecimento de tecnologias, incluindo a visão de como utilizá-las para resolver problemas reais e impulsionar a inovação nos negócios.\n",
        "                 Você é habilidoso em identificar as melhores soluções tecnológicas para diferentes modelos de negócios.\"\"\",\n",
        "    verbose=True,\n",
        "    allow_delegation=True,\n",
        "    memory=True,\n",
        "    llm=llm\n",
        ")\n",
        "\n",
        "consultor_negocios = Agent(\n",
        "    role=\"Consultor de Desenvolvimento de Negócios\",\n",
        "    goal=\"Avaliar e aconselhar sobre o modelo de negócios, escalabilidade e possíveis fontes de receita para garantir sustentabilidade e lucratividade a longo prazo\",\n",
        "    backstory=\"\"\"Você é um profissional experiente em moldar estratégias de negócios. Sua visão é essencial para transformar ideias inovadoras em modelos de negócios viáveis.\n",
        "                 Sua experiência em escalabilidade assegura que o negócio possa crescer sem comprometer seus valores ou eficiência operacional.\"\"\",\n",
        "    verbose=True,\n",
        "    allow_delegation=True,\n",
        "    memory=True,\n",
        "    llm=llm\n",
        ")\n",
        "\n",
        "# Definição das tarefa com os inputs\n",
        "tarefa1 = Task(\n",
        "    description=f\"\"\"Analisar a demanda de mercado para o produto '{produto}'.\n",
        "                    Escreva um relatório detalhado descrevendo o cliente ideal ({publico_alvo}) e como alcançar o maior público possível.\n",
        "                    Inclua pelo menos 10 pontos-chave abordando áreas importantes para o marketing deste produto.\"\"\",\n",
        "    expected_output=\"Relatório com 10 pontos-chave sobre o marketing para o público-alvo do produto.\",\n",
        "    agent=analista_de_mercado\n",
        ")\n",
        "\n",
        "tarefa2 = Task(\n",
        "    description=f\"\"\"Analisar como produzir '{produto}' usando as tecnologias necessárias ({tecnologias}).\n",
        "                    Escreva um relatório detalhado sobre as tecnologias recomendadas para a produção de alta qualidade do produto.\n",
        "                    Inclua pelo menos 10 pontos-chave cobrindo os aspectos importantes da fabricação.\"\"\",\n",
        "    expected_output=\"Relatório com 10 pontos-chave sobre tecnologias de fabricação do produto.\",\n",
        "    agent=especialista_tecnologia\n",
        ")\n",
        "\n",
        "tarefa3 = Task(\n",
        "    description=f\"\"\"Desenvolver um plano de negócios para o produto '{produto}', focando no objetivo de '{objetivo_negocio}'.\n",
        "                    Inclua um resumo dos relatórios de marketing e tecnologia, pelo menos 10 pontos-chave, 5 metas e um cronograma de ações para cada meta.\"\"\",\n",
        "    expected_output=\"Plano de negócios com 10 pontos-chave, 5 metas e um cronograma detalhado.\",\n",
        "    agent=consultor_negocios\n",
        ")\n",
        "\n",
        "# Criação da equipe (Crew) e execução das tarefas\n",
        "equipe = Crew(\n",
        "    agents=[analista_de_mercado, especialista_tecnologia, consultor_negocios],\n",
        "    tasks=[tarefa1, tarefa2, tarefa3],\n",
        "    verbose=True,\n",
        "    process=Process.sequential  # Processo sequencial executa as tarefas uma após a outra, passando o resultado da anterior para a próxima.\n",
        ")\n",
        "\n",
        "# Executar o processo da equipe\n",
        "resultado = equipe.kickoff()\n",
        "print(resultado)\n"
      ],
      "metadata": {
        "id": "zIHLqJA8GJC_"
      },
      "execution_count": null,
      "outputs": []
    },
    {
      "cell_type": "markdown",
      "source": [
        "### Exemplo utilizado com o produto \"Curso de Inglês\""
      ],
      "metadata": {
        "id": "PZNfVQeuMUVQ"
      }
    },
    {
      "cell_type": "code",
      "source": [
        "from IPython.display import Markdown\n",
        "Markdown(resultado.raw)"
      ],
      "metadata": {
        "colab": {
          "base_uri": "https://localhost:8080/",
          "height": 559
        },
        "id": "grtTDp3fGJFL",
        "outputId": "0a5b4b94-3489-49e5-cd4a-6d6325554190"
      },
      "execution_count": 7,
      "outputs": [
        {
          "output_type": "execute_result",
          "data": {
            "text/plain": [
              "<IPython.core.display.Markdown object>"
            ],
            "text/markdown": "**Plano de Negócios para o Curso de Inglês**\n\n**Resumo Executivo:**\nO Curso de Inglês visa oferecer uma educação de qualidade em língua inglesa para estudantes de todas as idades e níveis de habilidade. Nosso objetivo é se tornar um dos principais provedores de cursos de inglês da região, conhecidos por nossa excelência em ensino e compromisso com a satisfação do cliente.\n\n**Metas:**\n\n1. Aumentar a matrícula em 20% nos primeiros 6 meses de operação.\n2. Oferecer cursos de inglês para pelo menos 500 estudantes nos primeiros 12 meses.\n3. Estabelecer parcerias com empresas locais para oferecer cursos de inglês personalizados para funcionários.\n4. Manter uma taxa de satisfação do cliente de pelo menos 90%.\n\n**Estratégias de Marketing:**\n\n1. **Marketing Digital:** Utilizar plataformas de mídia social (Facebook, Instagram, LinkedIn) para promover o curso e interagir com os estudantes.\n2. **Publicidade Local:** Colocar anúncios em jornais e revistas locais para alcançar um público mais amplo.\n3. **Parcerias:** Estabelecer parcerias com escolas e universidades locais para oferecer cursos de inglês personalizados para estudantes.\n4. **Eventos:** Organizar eventos de networking e workshops para promover o curso e atrair novos estudantes.\n\n**Cronograma de Ações:**\n\n* Mês 1-3: Desenvolver o plano de negócios e estabelecer parcerias com empresas locais.\n* Mês 4-6: Lançar o curso e iniciar a publicidade local e digital.\n* Mês 7-9: Avaliar o progresso e ajustar as estratégias de marketing conforme necessário.\n* Mês 10-12: Continuar a promover o curso e estabelecer novas parcerias.\n\n**Orçamento:**\n\n* **Despesas Iniciais:** R$ 100.000 (desenvolvimento do plano de negócios, marketing e infraestrutura).\n* **Despesas Mensais:** R$ 20.000 (salários, aluguel, utilidades e marketing).\n* **Receita Projetada:** R$ 50.000 por mês (baseado em uma matrícula de 200 estudantes por mês).\n\n**Conclusão:**\nO Curso de Inglês tem o potencial de se tornar um dos principais provedores de cursos de inglês da região. Com um plano de negócios sólido e estratégias de marketing eficazes, podemos alcançar nossas metas e estabelecer uma reputação de excelência em ensino."
          },
          "metadata": {},
          "execution_count": 7
        }
      ]
    },
    {
      "cell_type": "code",
      "source": [],
      "metadata": {
        "id": "bXBGUMrNGJHj"
      },
      "execution_count": null,
      "outputs": []
    }
  ]
}