{
  "nbformat": 4,
  "nbformat_minor": 0,
  "metadata": {
    "colab": {
      "provenance": [],
      "authorship_tag": "ABX9TyNaBWnbFM+jOHvpgMYZg2Tp",
      "include_colab_link": true
    },
    "kernelspec": {
      "name": "python3",
      "display_name": "Python 3"
    },
    "language_info": {
      "name": "python"
    }
  },
  "cells": [
    {
      "cell_type": "markdown",
      "metadata": {
        "id": "view-in-github",
        "colab_type": "text"
      },
      "source": [
        "<a href=\"https://colab.research.google.com/github/matheus896/crewai-examples/blob/main/Assistente_de_Machine_Learning.ipynb\" target=\"_parent\"><img src=\"https://colab.research.google.com/assets/colab-badge.svg\" alt=\"Open In Colab\"/></a>"
      ]
    },
    {
      "cell_type": "code",
      "source": [
        "!pip install crewai\n",
        "!pip install litellm"
      ],
      "metadata": {
        "id": "JGFR_A5PsGuY"
      },
      "execution_count": null,
      "outputs": []
    },
    {
      "cell_type": "code",
      "execution_count": 22,
      "metadata": {
        "colab": {
          "base_uri": "https://localhost:8080/"
        },
        "id": "qqhExaqoexFW",
        "outputId": "0944d418-187a-4190-cf13-960986c7400b"
      },
      "outputs": [
        {
          "output_type": "stream",
          "name": "stdout",
          "text": [
            "\n",
            "    O Assistente de Aprendizado de Máquina CrewAI foi projetado para guiar usuários através \n",
            "    do processo de definição, avaliação e resolução de problemas de aprendizado de máquina. \n",
            "    Ele utiliza uma equipe de agentes de IA, cada um com um papel específico, para esclarecer o problema, \n",
            "    avaliar os dados, recomendar modelos adequados e gerar um código inicial em Python. \n",
            "    Seja você um cientista de dados experiente ou iniciante, esta aplicação fornece insights valiosos e \n",
            "    um ponto de partida para seus projetos de aprendizado de máquina.\n",
            "    \n"
          ]
        }
      ],
      "source": [
        "import pandas as pd\n",
        "import os\n",
        "from crewai import Agent, Task, Crew, LLM\n",
        "from litellm import completion\n",
        "\n",
        "def main():\n",
        "    \"\"\"\n",
        "    Função principal para inicializar e executar o Assistente de Aprendizado de Máquina do CrewAI.\n",
        "\n",
        "    Esta função configura um assistente de aprendizado de máquina usando o modelo Llama 3 com a API ChatGroq.\n",
        "    Ele fornece uma interface baseada em texto para os usuários definirem, avaliarem e resolverem problemas de aprendizado de máquina,\n",
        "    interagindo com múltiplos agentes de IA especializados. A função exibe os resultados no console\n",
        "    e os grava em um arquivo markdown.\n",
        "\n",
        "    Passos:\n",
        "    1. Inicializa a API ChatGroq com o modelo especificado e a chave da API.\n",
        "    2. Exibe um texto introdutório sobre o Assistente de Aprendizado de Máquina CrewAI.\n",
        "    3. Cria e configura quatro agentes de IA:\n",
        "        - Agente_Definicao_Problema: Esclarece o problema de aprendizado de máquina.\n",
        "        - Agente_Avaliacao_Dados: Avalia a qualidade e a adequação dos dados fornecidos.\n",
        "        - Agente_Rec_Models: Recomenda modelos adequados de aprendizado de máquina.\n",
        "        - Agente_Gerador_Codigo: Gera um código inicial em Python para o projeto.\n",
        "    4. Solicita ao usuário que descreva seu problema de aprendizado de máquina.\n",
        "    5. Verifica se há um arquivo .csv disponível no diretório atual e tenta lê-lo como um DataFrame.\n",
        "    6. Define tarefas para os agentes com base na entrada do usuário e na disponibilidade dos dados.\n",
        "    7. Cria uma instância do Crew com os agentes e tarefas e executa as tarefas.\n",
        "    8. Imprime os resultados e os grava em um arquivo de saída markdown.\n",
        "    \"\"\"\n",
        "\n",
        "os.environ[\"GROQ_API_KEY\"] = \"SUA_API_KEY\"\n",
        "\n",
        "llm = LLM (\n",
        "    model = 'groq/llama3-8b-8192',\n",
        "    temperature=0.1,\n",
        "    api_key=\"SUA_API_KEY\"\n",
        "    )\n",
        "\n",
        "texto_introdutorio = \"\"\"\n",
        "    O Assistente de Aprendizado de Máquina CrewAI foi projetado para guiar usuários através\n",
        "    do processo de definição, avaliação e resolução de problemas de aprendizado de máquina.\n",
        "    Ele utiliza uma equipe de agentes de IA, cada um com um papel específico, para esclarecer o problema,\n",
        "    avaliar os dados, recomendar modelos adequados e gerar um código inicial em Python.\n",
        "    Seja você um cientista de dados experiente ou iniciante, esta aplicação fornece insights valiosos e\n",
        "    um ponto de partida para seus projetos de aprendizado de máquina.\n",
        "    \"\"\"\n",
        "\n",
        "print(texto_introdutorio)\n"
      ]
    },
    {
      "cell_type": "markdown",
      "source": [
        "# AGENTES"
      ],
      "metadata": {
        "id": "yMFb2BKTsjao"
      }
    },
    {
      "cell_type": "code",
      "source": [
        "Agente_Definicao_Problema = Agent(\n",
        "        role='Agente_Definicao_Problema',\n",
        "        goal=\"\"\"esclarecer o problema de aprendizado de máquina que o usuário deseja resolver,\n",
        "            identificando o tipo de problema (ex.: classificação, regressão) e quaisquer requisitos específicos.\"\"\",\n",
        "        backstory=\"\"\"Você é um especialista em compreender e definir problemas de aprendizado de máquina.\n",
        "            Seu objetivo é extrair uma declaração de problema clara e concisa da entrada do usuário,\n",
        "            garantindo que o projeto comece com uma base sólida.\"\"\",\n",
        "        verbose=True,\n",
        "        allow_delegation=False,\n",
        "        llm=llm,\n",
        "    )\n",
        "\n",
        "Agente_Avaliacao_Dados = Agent(\n",
        "        role='Agente_Avaliacao_Dados',\n",
        "        goal=\"\"\"avaliar os dados fornecidos pelo usuário, verificando sua qualidade,\n",
        "            adequação ao problema e sugerindo etapas de pré-processamento, se necessário.\"\"\",\n",
        "        backstory=\"\"\"Você é especialista em avaliação e pré-processamento de dados.\n",
        "            Sua tarefa é orientar o usuário na preparação de seu conjunto de dados para o modelo de aprendizado de máquina,\n",
        "            incluindo sugestões para limpeza e aumento dos dados.\"\"\",\n",
        "        verbose=True,\n",
        "        allow_delegation=False,\n",
        "        llm=llm,\n",
        "    )\n",
        "\n",
        "Agente_Rec_Models = Agent(\n",
        "        role='Agente_Rec_Models',\n",
        "        goal=\"\"\"sugerir os modelos de aprendizado de máquina mais adequados com base na definição do problema\n",
        "            e na avaliação dos dados, fornecendo justificativas para cada recomendação.\"\"\",\n",
        "        backstory=\"\"\"Como especialista em algoritmos de aprendizado de máquina, você recomenda modelos que melhor se encaixam\n",
        "            no problema e nos dados do usuário. Você fornece insights sobre por que certos modelos podem ser mais eficazes do que outros,\n",
        "            considerando classificação vs regressão e aprendizado supervisionado vs não supervisionado.\"\"\",\n",
        "        verbose=True,\n",
        "        allow_delegation=False,\n",
        "        llm=llm,\n",
        "    )\n",
        "\n",
        "Agente_Gerador_Codigo = Agent(\n",
        "        role='Agente_Gerador_Codigo',\n",
        "        goal=\"\"\"gerar um código inicial em Python para o projeto, incluindo carregamento de dados,\n",
        "            definição do modelo e um loop básico de treinamento, com base nas descobertas da definição do problema,\n",
        "            avaliação dos dados e recomendação do modelo.\"\"\",\n",
        "        backstory=\"\"\"Você é um especialista em gerar modelos de código inicial que os usuários podem personalizar para seus projetos.\n",
        "                    Seu objetivo é dar aos usuários um ponto de partida para seus esforços de codificação.\"\"\",\n",
        "        verbose=True,\n",
        "        allow_delegation=False,\n",
        "        llm=llm,\n",
        "    )"
      ],
      "metadata": {
        "id": "cuHby35QrzkB"
      },
      "execution_count": 18,
      "outputs": []
    },
    {
      "cell_type": "markdown",
      "source": [
        "# Tasks"
      ],
      "metadata": {
        "id": "lpAZpSLmsl8d"
      }
    },
    {
      "cell_type": "code",
      "source": [
        "descricao_problema_usuario = input(\"Descreva seu problema de aprendizado de máquina: \")\n",
        "dados_enviados = False\n",
        "\n",
        "    # Verifica se há um arquivo .csv no diretório atual\n",
        "if any(file.endswith(\".csv\") for file in os.listdir()):\n",
        "        arquivo_amostra = [file for file in os.listdir() if file.endswith(\".csv\")][0]\n",
        "        try:\n",
        "            # Tenta ler o arquivo como um DataFrame\n",
        "            df = pd.read_csv(arquivo_amostra).head(5)\n",
        "\n",
        "            # Se bem sucedido, define 'dados_enviados' como True\n",
        "            dados_enviados = True\n",
        "\n",
        "            # Exibe o DataFrame na aplicação\n",
        "            print(\"Dados carregados e lidos como DataFrame com sucesso:\")\n",
        "            print(df)\n",
        "        except Exception as e:\n",
        "            print(f\"Erro ao ler o arquivo: {e}\")\n",
        "\n",
        "if descricao_problema_usuario:\n",
        "\n",
        "        tarefa_definir_problema = Task(\n",
        "            description=\"\"\"Clarificar e definir o problema de aprendizado de máquina,\n",
        "                incluindo identificar o tipo de problema e os requisitos específicos.\n",
        "\n",
        "                Problema do usuário:\n",
        "                {problema_ml}\n",
        "                \"\"\".format(problema_ml=descricao_problema_usuario),\n",
        "            agent=Agente_Definicao_Problema,\n",
        "            expected_output=\"Uma definição clara e concisa do problema de aprendizado de máquina. resposta apenas em PT-BR.\"\n",
        "        )\n",
        "\n",
        "if dados_enviados:\n",
        "            tarefa_avaliar_dados = Task(\n",
        "                description=\"\"\"Avaliar os dados fornecidos pelo usuário quanto à qualidade e adequação,\n",
        "                sugerindo etapas de pré-processamento ou aumento, se necessário.\n",
        "\n",
        "                Aqui estão os dados do usuário:\n",
        "                {df}\n",
        "                O nome do arquivo é {arquivo_carregado}\n",
        "                \"\"\".format(df=df.head(), arquivo_carregado=arquivo_amostra),\n",
        "                agent=Agente_Avaliacao_Dados,\n",
        "                expected_output=\"Uma avaliação da qualidade e adequação dos dados, com sugestões para pré-processamento ou aumento, se necessário. resposta apenas em PT-BR.\"\n",
        "            )\n",
        "else:\n",
        "            tarefa_avaliar_dados = Task(\n",
        "                description=\"\"\"O usuário não enviou dados específicos para este problema,\n",
        "                mas considere um conjunto de dados hipotético que possa ser útil para o problema de aprendizado de máquina deles.\n",
        "                \"\"\",\n",
        "                agent=Agente_Avaliacao_Dados,\n",
        "                expected_output=\"Um conjunto de dados hipotético que possa ser útil para o problema do usuário, juntamente com as etapas de pré-processamento necessárias. resposta apenas em PT-BR.\"\n",
        "            )\n",
        "\n",
        "tarefa_recomendar_modelo = Task(\n",
        "            description=\"\"\"Sugerir modelos de aprendizado de máquina adequados para o problema definido e dados avaliados,\n",
        "                           fornecendo justificativa para cada sugestão.\"\"\",\n",
        "            agent=Agente_Rec_Models,\n",
        "            expected_output=\"Uma lista de modelos de aprendizado de máquina adequados para o problema definido e dados avaliados, juntamente com a justificativa para cada sugestão. resposta apenas em PT-BR.\"\n",
        "        )\n",
        "\n",
        "tarefa_gerar_codigo = Task(\n",
        "            description=\"\"\"Gerar um código inicial em Python personalizado para o projeto do usuário, usando as recomendações do agente de recomendação de modelos,\n",
        "                incluindo snippets para importação de pacotes, manipulação de dados, definição de modelo e treinamento.\n",
        "                \"\"\",\n",
        "            agent=Agente_Gerador_Codigo,\n",
        "            expected_output=\"Snippets de código em Python para importação de pacotes, manipulação de dados, definição de modelo e treinamento, personalizados para o projeto do usuário, além de um resumo do problema e recomendações de modelos. resposta apenas em PT-BR.\",\n",
        "            context = [tarefa_recomendar_modelo]\n",
        "        )"
      ],
      "metadata": {
        "colab": {
          "base_uri": "https://localhost:8080/"
        },
        "id": "XaNgQOFMrzmb",
        "outputId": "08993c3e-d9af-43d3-93ce-5f07d8febba6"
      },
      "execution_count": 19,
      "outputs": [
        {
          "output_type": "stream",
          "name": "stdout",
          "text": [
            "Descreva seu problema de aprendizado de máquina: Quero melhorar o índice de satisfação dos clientes que entram em contato pelo chat  e reduzir o tempo de espera na fila,  pois percebo que esses fatores têm impactado negativamente nas avaliações dos clientes.\n",
            "Erro ao ler o arquivo: 'utf-8' codec can't decode bytes in position 15-16: invalid continuation byte\n"
          ]
        }
      ]
    },
    {
      "cell_type": "markdown",
      "source": [
        "# Crew"
      ],
      "metadata": {
        "id": "7ndC65BssvIX"
      }
    },
    {
      "cell_type": "code",
      "source": [
        "equipe = Crew(\n",
        "            agents=[Agente_Definicao_Problema, Agente_Avaliacao_Dados, Agente_Rec_Models, Agente_Gerador_Codigo],\n",
        "            tasks=[tarefa_definir_problema, tarefa_avaliar_dados, tarefa_recomendar_modelo, tarefa_gerar_codigo],\n",
        "            verbose=True\n",
        "        )\n",
        "resultado = equipe.kickoff()\n",
        "resultado_str = str(resultado)\n",
        "\n",
        "with open('saida.md', \"w\") as file:\n",
        "    print('\\n\\nOs resultados foram exportados para saida.md')\n",
        "    file.write(resultado_str)\n"
      ],
      "metadata": {
        "colab": {
          "base_uri": "https://localhost:8080/"
        },
        "id": "ZtuSU_7brzo1",
        "outputId": "0ade5b2f-1ed1-4b2b-8db9-d15fc865db35"
      },
      "execution_count": 20,
      "outputs": [
        {
          "output_type": "stream",
          "name": "stderr",
          "text": [
            "WARNING:opentelemetry.trace:Overriding of current TracerProvider is not allowed\n"
          ]
        },
        {
          "output_type": "stream",
          "name": "stdout",
          "text": [
            "\u001b[1m\u001b[95m# Agent:\u001b[00m \u001b[1m\u001b[92mAgente_Definicao_Problema\u001b[00m\n",
            "\u001b[95m## Task:\u001b[00m \u001b[92mClarificar e definir o problema de aprendizado de máquina,\n",
            "                incluindo identificar o tipo de problema e os requisitos específicos.\n",
            "\n",
            "                Problema do usuário:\n",
            "                Quero melhorar o índice de satisfação dos clientes que entram em contato pelo chat  e reduzir o tempo de espera na fila,  pois percebo que esses fatores têm impactado negativamente nas avaliações dos clientes.\n",
            "                \u001b[00m\n",
            "\n",
            "\n",
            "\u001b[1m\u001b[95m# Agent:\u001b[00m \u001b[1m\u001b[92mAgente_Definicao_Problema\u001b[00m\n",
            "\u001b[95m## Final Answer:\u001b[00m \u001b[92m\n",
            "O problema de aprendizado de máquina é: Desenvolver um modelo de aprendizado de máquina que prediga a satisfação dos clientes que entram em contato pelo chat e identifique os fatores que influenciam no tempo de espera na fila, com o objetivo de melhorar o índice de satisfação dos clientes e reduzir o tempo de espera na fila.\n",
            "\n",
            "O tipo de problema é uma tarefa de regressão, pois o objetivo é prever um valor contínuo (índice de satisfação e tempo de espera) com base em variáveis preditoras (fatores que influenciam na satisfação e no tempo de espera).\n",
            "\n",
            "Requisitos específicos:\n",
            "\n",
            "* Coletar dados sobre as interações dos clientes com o chat, incluindo as mensagens enviadas e recebidas, o tempo de espera na fila e a avaliação do cliente sobre a experiência;\n",
            "* Identificar e extrair variáveis preditoras relevantes que influenciam na satisfação dos clientes e no tempo de espera na fila, como por exemplo, o tipo de problema apresentado pelo cliente, a hora do dia, o dia da semana, etc.;\n",
            "* Treinar um modelo de aprendizado de máquina que possa prever a satisfação dos clientes e o tempo de espera na fila com base nas variáveis preditoras;\n",
            "* Avaliar o desempenho do modelo e ajustá-lo para melhorar a precisão das previsões;\n",
            "* Implementar o modelo em um sistema de chat para que possa ser utilizado em tempo real para melhorar a experiência do cliente.\u001b[00m\n",
            "\n",
            "\n",
            "\u001b[1m\u001b[95m# Agent:\u001b[00m \u001b[1m\u001b[92mAgente_Avaliacao_Dados\u001b[00m\n",
            "\u001b[95m## Task:\u001b[00m \u001b[92mO usuário não enviou dados específicos para este problema,\n",
            "                mas considere um conjunto de dados hipotético que possa ser útil para o problema de aprendizado de máquina deles.\n",
            "                \u001b[00m\n",
            "\n",
            "\n",
            "\u001b[1m\u001b[95m# Agent:\u001b[00m \u001b[1m\u001b[92mAgente_Avaliacao_Dados\u001b[00m\n",
            "\u001b[95m## Final Answer:\u001b[00m \u001b[92m\n",
            "Para o problema de aprendizado de máquina, vamos considerar um conjunto de dados hipotético que contenha as seguintes variáveis:\n",
            "\n",
            "* `id_cliente`: identificador único do cliente\n",
            "* `mensagem_cliente`: texto da mensagem enviada pelo cliente\n",
            "* `mensagem_atendente`: texto da mensagem enviada pelo atendente\n",
            "* `hora_chamada`: hora em que o cliente entrou em contato com o chat\n",
            "* `dia_semana`: dia da semana em que o cliente entrou em contato com o chat\n",
            "* `tipo_problema`: tipo de problema apresentado pelo cliente (por exemplo, problema técnico, dúvida, etc.)\n",
            "* `satisfacao_cliente`: avaliação do cliente sobre a experiência (escala de 1 a 5)\n",
            "* `tempo_espera`: tempo de espera na fila (em minutos)\n",
            "* `resultado_chamada`: resultado da chamada (por exemplo, resolvido, não resolvido, etc.)\n",
            "\n",
            "Para pré-processar esses dados, vamos seguir as seguintes etapas:\n",
            "\n",
            "1. **Limpeza de dados**: remover dados faltantes ou inconsistentes, como mensagens vazias ou IDs de clientes inválidos.\n",
            "2. **Tokenização**: dividir as mensagens em palavras e remover stopwords (palavras comuns como \"a\", \"o\", \"da\", etc.) para reduzir a dimensionalidade do espaço de características.\n",
            "3. **Vectorização**: converter as mensagens em vetores de características utilizando técnicas de word embeddings, como Word2Vec ou GloVe.\n",
            "4. **Normalização**: normalizar os valores das variáveis contínuas, como o tempo de espera, para evitar que os valores mais altos influenciem mais na previsão.\n",
            "5. **Feature engineering**: criar novas variáveis a partir das existentes, como a média da duração das mensagens ou a frequência de palavras específicas.\n",
            "6. **Divisão de dados**: dividir os dados em conjuntos de treinamento, validação e teste para avaliar o desempenho do modelo e ajustá-lo para melhorar a precisão das previsões.\n",
            "\n",
            "Com essas etapas de pré-processamento, podemos treinar um modelo de aprendizado de máquina que prediga a satisfação dos clientes e identifique os fatores que influenciam no tempo de espera na fila.\u001b[00m\n",
            "\n",
            "\n",
            "\u001b[1m\u001b[95m# Agent:\u001b[00m \u001b[1m\u001b[92mAgente_Rec_Models\u001b[00m\n",
            "\u001b[95m## Task:\u001b[00m \u001b[92mSugerir modelos de aprendizado de máquina adequados para o problema definido e dados avaliados, \n",
            "                           fornecendo justificativa para cada sugestão.\u001b[00m\n",
            "\n",
            "\n",
            "\u001b[1m\u001b[95m# Agent:\u001b[00m \u001b[1m\u001b[92mAgente_Rec_Models\u001b[00m\n",
            "\u001b[95m## Final Answer:\u001b[00m \u001b[92m\n",
            "Considerando o problema de prever a satisfação dos clientes e identificar os fatores que influenciam no tempo de espera na fila, sugiero os seguintes modelos de aprendizado de máquina:\n",
            "\n",
            "1. **Classificação Regressiva**: como a variável `satisfacao_cliente` é uma escala de 1 a 5, podemos utilizar um modelo de classificação regressiva para prever a satisfação dos clientes. Além disso, a variável `tempo_espera` é contínua, o que também justifica a escolha de um modelo de classificação regressiva.\n",
            "2. **Random Forest**: como o conjunto de dados contém várias variáveis categóricas (como `dia_semana` e `tipo_problema`) e contínuas (como `hora_chamada` e `tempo_espera`), um modelo de floresta aleatória pode ser uma boa escolha. Além disso, a random forest é robusta e pode lidar com dados com alta dimensionalidade.\n",
            "3. **Gradient Boosting**: como o conjunto de dados contém várias variáveis categóricas e contínuas, um modelo de boosting de gradientos pode ser uma boa escolha. Além disso, o boosting de gradientos é conhecido por sua capacidade de lidar com dados com alta dimensionalidade e ruído.\n",
            "4. **Neural Network**: como o conjunto de dados contém várias variáveis categóricas e contínuas, um modelo de rede neural pode ser uma boa escolha. Além disso, as redes neurais são capazes de aprender representações complexas dos dados e podem lidar com dados com alta dimensionalidade.\n",
            "5. **SVM**: como o conjunto de dados contém várias variáveis categóricas e contínuas, um modelo de SVM (Support Vector Machine) pode ser uma boa escolha. Além disso, o SVM é conhecido por sua capacidade de lidar com dados com alta dimensionalidade e ruído.\n",
            "\n",
            "Justificativa para cada sugestão:\n",
            "\n",
            "* Classificação Regressiva: como a variável `satisfacao_cliente` é uma escala de 1 a 5, um modelo de classificação regressiva é apropriado para prever a satisfação dos clientes.\n",
            "* Random Forest: como o conjunto de dados contém várias variáveis categóricas e contínuas, um modelo de floresta aleatória é uma boa escolha para lidar com a complexidade dos dados.\n",
            "* Gradient Boosting: como o conjunto de dados contém várias variáveis categóricas e contínuas, um modelo de boosting de gradientos é uma boa escolha para lidar com a complexidade dos dados e ruído.\n",
            "* Neural Network: como o conjunto de dados contém várias variáveis categóricas e contínuas, um modelo de rede neural é uma boa escolha para aprender representações complexas dos dados.\n",
            "* SVM: como o conjunto de dados contém várias variáveis categóricas e contínuas, um modelo de SVM é uma boa escolha para lidar com a complexidade dos dados e ruído.\n",
            "\n",
            "Em resumo, os modelos de aprendizado de máquina sugeridos são adequados para o problema definido e dados avaliados, considerando a natureza das variáveis e a complexidade dos dados.\u001b[00m\n",
            "\n",
            "\n",
            "\u001b[1m\u001b[95m# Agent:\u001b[00m \u001b[1m\u001b[92mAgente_Gerador_Codigo\u001b[00m\n",
            "\u001b[95m## Task:\u001b[00m \u001b[92mGerar um código inicial em Python personalizado para o projeto do usuário, usando as recomendações do agente de recomendação de modelos,\n",
            "                incluindo snippets para importação de pacotes, manipulação de dados, definição de modelo e treinamento.\n",
            "                \u001b[00m\n",
            "\n",
            "\n",
            "\u001b[1m\u001b[95m# Agent:\u001b[00m \u001b[1m\u001b[92mAgente_Gerador_Codigo\u001b[00m\n",
            "\u001b[95m## Final Answer:\u001b[00m \u001b[92m\n",
            "```\n",
            "# Import necessary libraries\n",
            "import pandas as pd\n",
            "from sklearn.model_selection import train_test_split\n",
            "from sklearn.ensemble import RandomForestRegressor\n",
            "from sklearn.metrics import mean_squared_error\n",
            "from sklearn.preprocessing import LabelEncoder\n",
            "\n",
            "# Load dataset\n",
            "df = pd.read_csv('dataset.csv')\n",
            "\n",
            "# Preprocess data\n",
            "le = LabelEncoder()\n",
            "df['dia_semana'] = le.fit_transform(df['dia_semana'])\n",
            "df['tipo_problema'] = le.fit_transform(df['tipo_problema'])\n",
            "\n",
            "# Split data into training and testing sets\n",
            "X_train, X_test, y_train, y_test = train_test_split(df.drop('satisfacao_cliente', axis=1), df['satisfacao_cliente'], test_size=0.2, random_state=42)\n",
            "\n",
            "# Define and train the model\n",
            "rf = RandomForestRegressor(n_estimators=100, random_state=42)\n",
            "rf.fit(X_train, y_train)\n",
            "\n",
            "# Make predictions\n",
            "y_pred = rf.predict(X_test)\n",
            "\n",
            "# Evaluate the model\n",
            "mse = mean_squared_error(y_test, y_pred)\n",
            "print(f'Mean Squared Error: {mse:.2f}')\n",
            "\n",
            "# Use the model to make predictions on new data\n",
            "new_data = pd.DataFrame({'dia_semana': [1, 2, 3], 'hora_chamada': [10, 11, 12], 'tipo_problema': [0, 1, 2]})\n",
            "new_data['satisfacao_cliente'] = rf.predict(new_data)\n",
            "print(new_data)\n",
            "```\n",
            "\n",
            "This code includes the following:\n",
            "\n",
            "* Import necessary libraries\n",
            "* Load the dataset\n",
            "* Preprocess the data by encoding categorical variables\n",
            "* Split the data into training and testing sets\n",
            "* Define and train a random forest regressor model\n",
            "* Make predictions on the testing set\n",
            "* Evaluate the model using mean squared error\n",
            "* Use the model to make predictions on new data\n",
            "\n",
            "Note that this is just a starting point, and the user may need to modify the code to suit their specific needs.\u001b[00m\n",
            "\n",
            "\n",
            "\n",
            "\n",
            "Os resultados foram exportados para saida.md\n"
          ]
        }
      ]
    },
    {
      "cell_type": "code",
      "source": [
        "from IPython.display import Markdown\n",
        "Markdown(resultado.raw)"
      ],
      "metadata": {
        "colab": {
          "base_uri": "https://localhost:8080/",
          "height": 807
        },
        "id": "pkG5OGZXwqzi",
        "outputId": "2fb589d0-5af3-489e-a46a-f54fbdf9ce2a"
      },
      "execution_count": 21,
      "outputs": [
        {
          "output_type": "execute_result",
          "data": {
            "text/plain": [
              "<IPython.core.display.Markdown object>"
            ],
            "text/markdown": "```\n# Import necessary libraries\nimport pandas as pd\nfrom sklearn.model_selection import train_test_split\nfrom sklearn.ensemble import RandomForestRegressor\nfrom sklearn.metrics import mean_squared_error\nfrom sklearn.preprocessing import LabelEncoder\n\n# Load dataset\ndf = pd.read_csv('dataset.csv')\n\n# Preprocess data\nle = LabelEncoder()\ndf['dia_semana'] = le.fit_transform(df['dia_semana'])\ndf['tipo_problema'] = le.fit_transform(df['tipo_problema'])\n\n# Split data into training and testing sets\nX_train, X_test, y_train, y_test = train_test_split(df.drop('satisfacao_cliente', axis=1), df['satisfacao_cliente'], test_size=0.2, random_state=42)\n\n# Define and train the model\nrf = RandomForestRegressor(n_estimators=100, random_state=42)\nrf.fit(X_train, y_train)\n\n# Make predictions\ny_pred = rf.predict(X_test)\n\n# Evaluate the model\nmse = mean_squared_error(y_test, y_pred)\nprint(f'Mean Squared Error: {mse:.2f}')\n\n# Use the model to make predictions on new data\nnew_data = pd.DataFrame({'dia_semana': [1, 2, 3], 'hora_chamada': [10, 11, 12], 'tipo_problema': [0, 1, 2]})\nnew_data['satisfacao_cliente'] = rf.predict(new_data)\nprint(new_data)\n```\n\nThis code includes the following:\n\n* Import necessary libraries\n* Load the dataset\n* Preprocess the data by encoding categorical variables\n* Split the data into training and testing sets\n* Define and train a random forest regressor model\n* Make predictions on the testing set\n* Evaluate the model using mean squared error\n* Use the model to make predictions on new data\n\nNote that this is just a starting point, and the user may need to modify the code to suit their specific needs."
          },
          "metadata": {},
          "execution_count": 21
        }
      ]
    },
    {
      "cell_type": "code",
      "source": [
        "\"\"\"\n",
        "input usado de exemplo: \"Quero melhorar o índice de satisfação dos clientes que entram em contato pelo chat\n",
        "e reduzir o tempo de espera na fila, pois percebo que esses fatores têm impactado negativamente nas avaliações dos clientes.\"\n",
        "\"\"\""
      ],
      "metadata": {
        "id": "g5kTalHOrz5G"
      },
      "execution_count": null,
      "outputs": []
    }
  ]
}