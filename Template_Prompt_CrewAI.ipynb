{
  "nbformat": 4,
  "nbformat_minor": 0,
  "metadata": {
    "colab": {
      "provenance": [],
      "include_colab_link": true
    },
    "kernelspec": {
      "name": "python3",
      "display_name": "Python 3"
    },
    "language_info": {
      "name": "python"
    }
  },
  "cells": [
    {
      "cell_type": "markdown",
      "metadata": {
        "id": "view-in-github",
        "colab_type": "text"
      },
      "source": [
        "<a href=\"https://colab.research.google.com/github/matheus896/crewai-examples/blob/main/Template_Prompt_CrewAI.ipynb\" target=\"_parent\"><img src=\"https://colab.research.google.com/assets/colab-badge.svg\" alt=\"Open In Colab\"/></a>"
      ]
    },
    {
      "cell_type": "markdown",
      "source": [
        "\n",
        "\n",
        "# Gerador Automatizado de Petições Jurídicas\n",
        "Este projeto implementa um sistema automatizado para geração de petições jurídicas. O sistema funciona através de uma equipe de agentes especializados que trabalham em conjunto para transformar dados estruturados em uma petição jurídica formatada.\n",
        "\n",
        "Funcionalidade Principal:\n",
        "- O sistema opera através de quatro agentes especializados:\n",
        "Leitor de YAML: Processa os dados estruturados da petição\n",
        "Leitor de Template: Analisa o modelo base da petição\n",
        "Escritor: Combina os dados com o template para criar a petição\n",
        "Revisor: Garante a qualidade e precisão do documento final\n",
        "- O processo transforma automaticamente um arquivo YAML contendo os dados da petição em um documento jurídico formatado em Markdown, seguindo um template predefinido.\n",
        "- Resultado\n",
        "O sistema gera uma petição jurídica completa e formatada, pronta para uso, salvando o resultado final em um arquivo markdown. Este sistema foi desenvolvido para automatizar e padronizar a criação de petições jurídicas, mantendo a qualidade e precisão necessárias em documentos legais.\n"
      ],
      "metadata": {
        "id": "OzDHqQxSAnTE"
      }
    },
    {
      "cell_type": "code",
      "execution_count": null,
      "metadata": {
        "id": "JwXrfvxJzpec"
      },
      "outputs": [],
      "source": [
        "!pip install --q crewai\n",
        "!pip install --q 'crewai[tools]'"
      ]
    },
    {
      "cell_type": "markdown",
      "source": [
        "<img src=\"https://raw.githubusercontent.com/sandeco/crewai/main/images/2.png\" width=\"80%\"\n",
        "/>"
      ],
      "metadata": {
        "id": "J998GxzgdiXk"
      }
    },
    {
      "cell_type": "code",
      "source": [
        "from dotenv import load_dotenv\n",
        "from crewai import Agent, Task, Crew, Process, LLM\n",
        "from crewai_tools import FileReadTool\n",
        "from litellm import completion\n",
        "import os\n",
        "import yaml\n",
        "\n",
        "# Ferramenta para leitura de arquivos YAML e templates\n",
        "reader_tool = FileReadTool()\n",
        "\n",
        "# Carregar variáveis de ambiente do arquivo .env\n",
        "load_dotenv()\n",
        "\n",
        "# Inicializar o modelo OpenAI\n",
        "llm = LLM (\n",
        "    model = 'gemini/gemini-1.5-flash',\n",
        "    temperature=0.2\n",
        "    )\n",
        "\n",
        "\n",
        "# Definindo os agentes\n",
        "leitor_yaml = Agent(\n",
        "    role='Leitor de Dados',\n",
        "    goal='Ler os dados do arquivo {yaml} de uma petição. Esses dados servirão de apoio para'\n",
        "         'o escritor redigir a petição apropriadamente e com os dados corretos.'\n",
        "         'Crie uma lista de seções que devem ser usadas na petição e passe '\n",
        "         'para o escritor.',\n",
        "    verbose=True,\n",
        "    memory=True,\n",
        "    backstory=(\n",
        "        \"Você é um especialista em leitura e interpretação de dados legais, \"\n",
        "        \"com vasta experiência em processar informações de documentos legais.\"\n",
        "    ),\n",
        "    tools=[reader_tool],\n",
        "    allow_delegation=False,\n",
        "    llm=llm\n",
        ")\n",
        "\n",
        "leitor_template = Agent(\n",
        "    role='Leitor de Templates',\n",
        "    goal='Ler o arquivo de template {template} de uma petição '\n",
        "         'para que o escritor possa escrever uma petição baseada '\n",
        "         'no template. Somente leia e passe o template para o escritor',\n",
        "    verbose=True,\n",
        "    memory=True,\n",
        "    backstory=(\n",
        "        \"Você é um especialista em leitura de templates e \"\n",
        "        \"possui vasta experiência em processar informações \"\n",
        "        \"de documentos legais.\"\n",
        "    ),\n",
        "    tools=[reader_tool],\n",
        "    allow_delegation=False,\n",
        "    llm=llm\n",
        ")\n",
        "\n",
        "escritor = Agent(\n",
        "    role='Escritor de Petições',\n",
        "    backstory=\n",
        "        \"Você é um advogado altamente qualificado e experiente \"\n",
        "        \"na elaboração de peças jurídicas precisas e persuasivas. \"\n",
        "        \"É reconhecido por sua capacidade de articular argumentos \"\n",
        "        \"convincente que evidenciam os méritos de cada caso, \"\n",
        "        \"garantindo que os interesses de seus clientes sejam representados \"\n",
        "        \"de forma eficaz e justa. Você tem a grande habilidade \"\n",
        "        \"de transformar dados brutos em belíssimas peças jurídicas.\"\n",
        "        \"Alterando templates deixando de acordo com todos os dados\"\n",
        "        \"da petição.\"\n",
        "    ,\n",
        "    goal=\n",
        "        f\"\"\"Você receberá os dados do agente leitor de YAML,\n",
        "        que devem ser usados como insumo para a escrita\n",
        "        de uma nova petição. Todos os dados do YAML devem\n",
        "        estar no texto. Não deixe faltar nenhuma informação\n",
        "        proveniente do YAML na petição. Os textos de todas\n",
        "        as informações das seções, como partes, fatos,\n",
        "        fundamentação jurídica, pedido, provas ou\n",
        "        qualquer outra seção que venha do YAML,\n",
        "        devem conter o título da seção e o texto da seção\n",
        "        deve ser escrito em parágrafos corridos,\n",
        "        sem pontos ou listas.\n",
        "        Use o template do Leitor de Templates com o referência para criar o texto\n",
        "        \"\"\"\n",
        "    ,\n",
        "    verbose=True,\n",
        "    memory=True,\n",
        "    llm=llm,\n",
        "    allow_delegation=False\n",
        ")\n",
        "\n",
        "revisor = Agent(\n",
        "    role='Revisor de Petições',\n",
        "    goal='Você revisará a petição escrita para garantir precisão e clareza. '\n",
        "         'Estando tudo correto, salve todo o texto revisado da petição.',\n",
        "    verbose=True,\n",
        "    memory=True,\n",
        "    backstory=(\n",
        "        \"Um revisor meticuloso com um olhar aguçado para detalhes, \"\n",
        "        \"garantindo que cada petição esteja livre de erros e bem formulada.\"\n",
        "    ),\n",
        "    llm=llm,\n",
        "    allow_delegation=False\n",
        ")\n",
        "\n",
        "# Definindo as tarefas\n",
        "leitura_dados = Task(\n",
        "    description=(\n",
        "        \"Use a ferramenta de leitura para ler o arquivo {yaml} e extrair os dados necessários para a petição.\"\n",
        "    ),\n",
        "    expected_output='Dados estruturados da petição prontos para uso.',\n",
        "    agent=leitor_yaml,\n",
        ")\n",
        "\n",
        "leitura_template = Task(\n",
        "    description=(\n",
        "        \"Use a ferramenta de leitura para ler o arquivo {template} \"\n",
        "        \"que servirá de referência para a petição. \"\n",
        "    ),\n",
        "    expected_output='Template petição pronta para uso pelo escritor.',\n",
        "    agent=leitor_template,\n",
        ")\n",
        "\n",
        "escrita_peticao = Task(\n",
        "    description=(\n",
        "        \"Escreva em Markdown uma petição baseada nos dados do YAML. \"\n",
        "        \"Substitua as seções do template pelos dados do YAML e adicione novas seções se necessário.\"\n",
        "    ),\n",
        "    expected_output=(\n",
        "        'Uma petição bem escrita e estruturada em Markdown.'\n",
        "    ),\n",
        "    agent=escritor,\n",
        "    context=[leitura_dados, leitura_template]\n",
        ")\n",
        "\n",
        "revisao_peticao = Task(\n",
        "    description=(\n",
        "        \"Revise a petição escrita em Markdown para garantir precisão e clareza. \"\n",
        "        \"Estando tudo correto, salve todo o texto revisado da petição. \"\n",
        "        \"Retire ```markdown.\"\n",
        "    ),\n",
        "    expected_output='Um arquivo de texto em Markdown com a '\n",
        "                    'petição revisada e pronta para ser submetida. '\n",
        "                    'É muito importante que o texto não contenha '\n",
        "                    'coisas como \"```markdown\" e \"```\".',\n",
        "    agent=revisor,\n",
        "    output_file='peticao.md',\n",
        "    context=[escrita_peticao]\n",
        ")\n",
        "\n",
        "# Configurando o Crew\n",
        "crew = Crew(\n",
        "    agents=[leitor_yaml, leitor_template, escritor, revisor],\n",
        "    tasks=[leitura_dados, leitura_template, escrita_peticao, revisao_peticao],\n",
        "    process=Process.sequential,\n",
        "    cache=True\n",
        ")\n",
        "\n",
        "inputs = {'yaml':'peticao.yaml',\n",
        "          'template':'template.md'}\n",
        "\n",
        "result = crew.kickoff(inputs=inputs)\n",
        "\n",
        "print(result)\n"
      ],
      "metadata": {
        "id": "obCk1g0OWMEp"
      },
      "execution_count": null,
      "outputs": []
    },
    {
      "cell_type": "code",
      "source": [
        "from IPython.display import Markdown\n",
        "Markdown(result.raw)"
      ],
      "metadata": {
        "colab": {
          "base_uri": "https://localhost:8080/",
          "height": 1000
        },
        "id": "nyNQmFAH_L2c",
        "outputId": "35a7a7b5-d10b-4c08-b88b-7fcf4d046d9a"
      },
      "execution_count": 12,
      "outputs": [
        {
          "output_type": "execute_result",
          "data": {
            "text/plain": [
              "<IPython.core.display.Markdown object>"
            ],
            "text/markdown": "# **Petição Inicial**\n\n## **Endereçamento**\n\n**Tribunal:** Tribunal de Justiça do Estado de Goiás\n**Vara:** 1ª Vara Cível\n**Comarca:** Goiânia\n**Processo:** 04458320853480\n**Juiz:** José Justo\n\n## **Qualificação das Partes**\n\n### **Autor**\n\n- **Nome completo:** João do Pé de Feijão\n- **Nacionalidade:** Brasileiro\n- **Estado Civil:** Solteiro\n- **Profissão:** Pedreiro\n- **RG:** MG-12.345.678\n- **CPF:** 123.456.789-00\n- **Endereço completo:** Rua das Sentido, 123, Centro, Goiânia, GO, 74000-000\n\n### **Réu**\n\n- **Nome completo:** Maria de Blablabla\n- **Nacionalidade:** Brasileira\n- **Estado Civil:** Casada\n- **Profissão:** Advogada\n- **RG:** GO-98.765.432\n- **CPF:** 987.654.321-00\n- **Endereço completo:** Avenida do Chão de Ouro, 456, Setor Oeste, Goiânia, GO, 74000-001\n\n### **Advogado**\n\n- **Nome:** Dr. Sandeco Macedo\n- **OAB:** OAB/GO 12345\n- **Endereço profissional:** Alameda dos Anjos, 789, Setor Sul, Goiânia, GO, 74000-002\n- **Telefone:** (62) 1234-5678\n- **Email:** sandeco@advocacia_doidera.com.br\n\n## **Fatos**\n\nEm 20 de maio de 2023, na Praça Central de Goiânia, o Autor, João do Pé de Feijão, foi vítima de ofensas verbais proferidas pelo Réu, Maria de Blablabla. O Réu, de forma gratuita e sem qualquer justificativa, chamou o Autor de \"mizeravi\", causando-lhe grande constrangimento e humilhação.\n\n## **Danos Morais**\n\nEm decorrência das ofensas sofridas, o Autor experimentou abalo emocional significativo, com prejuízo em suas relações pessoais e profissionais. A conduta do Réu, além de violar a dignidade do Autor, causou-lhe sofrimento psicológico, necessitando de acompanhamento profissional para lidar com as sequelas do evento.\n\n## **Fundamentação Jurídica**\n\nA conduta do Réu configura ato ilícito, conforme disposto no **Art. 186 do Código Civil**, que prevê a responsabilidade civil por danos morais. O **Art. 927 do Código Civil** estabelece que aquele que, por ação ou omissão voluntária, negligência ou imprudência, violar direito e causar dano a outrem, ainda que exclusivamente moral, comete ato ilícito.\n\nA jurisprudência pátria reconhece o direito à indenização por danos morais em casos como o presente, em que a ofensa à dignidade da pessoa humana é evidente. O **princípio da dignidade da pessoa humana**, consagrado na Constituição Federal, garante a proteção da honra, da imagem e da integridade moral de cada indivíduo.\n\n## **Pedidos**\n\nDiante do exposto, requer-se:\n\n1. **Citação:** Do Réu, para que, querendo, apresente contestação, no prazo legal.\n2. **Procedência:** Da presente ação, condenando o Réu ao pagamento de indenização por danos morais, a ser arbitrada por este Juízo, levando em consideração a gravidade do dano sofrido pelo Autor.\n3. **Valor da causa:** R$ 50.000,00 (cinquenta mil reais).\n4. **Outros pedidos:**\n    - A condenação do Réu ao pagamento de juros de mora e correção monetária, a partir do evento danoso.\n    - A condenação do Réu ao pagamento das custas processuais e honorários advocatícios, estes fixados em 20% (vinte por cento) do valor da condenação.\n\n## **Provas**\n\nPara comprovar os fatos alegados, o Autor se oferece a produzir as seguintes provas:\n\n### **Documentais**\n\n- Boletim de Ocorrência registrado na data do evento.\n- Relatórios médicos que comprovam o abalo emocional sofrido pelo Autor.\n\n### **Testemunhais**\n\n- **Nome:** Ana Aninha Ana\n- **Endereço:** Rua das Palmeiras, 321, Centro, Goiânia, GO\n- **Nome:** Pedro Pedreira Noventa\n- **Endereço:** Avenida das Américas, 654, Setor Bueno, Goiânia, GO\n\n### **Periciais**\n\n- Perícia psicológica para avaliação dos danos emocionais sofridos pelo Autor.\n\n## **Medidas Antecipatórias**\n\nRequer-se, ainda, a concessão de medida liminar, consistente na **proibição de contato do Réu com o Autor**, em qualquer meio de comunicação, inclusive por telefone, e-mail, redes sociais e mensagens instantâneas.\n\nA presente medida se justifica pela necessidade de evitar novas ofensas e constrangimentos ao Autor, garantindo sua segurança e integridade moral. A urgência da medida decorre do risco de dano irreparável ao Autor, caso o Réu continue a importuná-lo.\n\n## **Encerramento**\n\nNestes termos, pede deferimento.\n\n**Goiânia, 30 de julho de 2024.**\n\n### **Assinatura**\n\n**Advogado:** Dr. Sandeco Macedo\n**OAB:** OAB/GO 12345"
          },
          "metadata": {},
          "execution_count": 12
        }
      ]
    }
  ]
}