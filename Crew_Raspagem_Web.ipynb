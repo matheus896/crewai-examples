{
  "nbformat": 4,
  "nbformat_minor": 0,
  "metadata": {
    "colab": {
      "provenance": [],
      "authorship_tag": "ABX9TyNRyL3SZrZEYZ8VNzkmBhZG",
      "include_colab_link": true
    },
    "kernelspec": {
      "name": "python3",
      "display_name": "Python 3"
    },
    "language_info": {
      "name": "python"
    }
  },
  "cells": [
    {
      "cell_type": "markdown",
      "metadata": {
        "id": "view-in-github",
        "colab_type": "text"
      },
      "source": [
        "<a href=\"https://colab.research.google.com/github/matheus896/crewai-examples/blob/main/Crew_Raspagem_Web.ipynb\" target=\"_parent\"><img src=\"https://colab.research.google.com/assets/colab-badge.svg\" alt=\"Open In Colab\"/></a>"
      ]
    },
    {
      "cell_type": "code",
      "execution_count": null,
      "metadata": {
        "id": "bbLeee-q3bGZ",
        "collapsed": true
      },
      "outputs": [],
      "source": [
        "!pip install --q crewai\n",
        "!pip install --q litellm\n",
        "!pip install --q 'crewai[tools]'"
      ]
    },
    {
      "cell_type": "code",
      "source": [
        "import os\n",
        "from crewai_tools import ScrapeWebsiteTool\n",
        "from crewai import Agent, Task, Crew, Process, LLM\n",
        "from litellm import completion"
      ],
      "metadata": {
        "id": "fDAQ2_Ya4e77"
      },
      "execution_count": 4,
      "outputs": []
    },
    {
      "cell_type": "markdown",
      "source": [
        "# NOSSAS MENTES"
      ],
      "metadata": {
        "id": "kFSN8iH_7pNZ"
      }
    },
    {
      "cell_type": "code",
      "source": [
        "os.environ[\"GEMINI_API_KEY\"] = \"SUA_API_KEY\"\n",
        "\n",
        "llm = LLM (\n",
        "    model = 'gemini/gemini-1.5-flash',\n",
        "    temperature=0.2,\n",
        "    api_key=\"GEMINI_API_KEY\"\n",
        "    )"
      ],
      "metadata": {
        "id": "Db3uHUhb5AGq"
      },
      "execution_count": 5,
      "outputs": []
    },
    {
      "cell_type": "markdown",
      "source": [
        "# RASPANDO A WEB"
      ],
      "metadata": {
        "id": "9ZlbCU967hRA"
      }
    },
    {
      "cell_type": "code",
      "source": [
        "ainew = ScrapeWebsiteTool(\n",
        "    website_url=\"https://www.artificialintelligence-news.com/\"\n",
        ")"
      ],
      "metadata": {
        "id": "F3hJJ1PP5bC5"
      },
      "execution_count": 6,
      "outputs": []
    },
    {
      "cell_type": "code",
      "source": [
        "forbes = ScrapeWebsiteTool(\n",
        "    website_url=\"https://www.forbes.com/ai/\"\n",
        ")\n"
      ],
      "metadata": {
        "id": "xyW3bWgI7AAk"
      },
      "execution_count": 7,
      "outputs": []
    },
    {
      "cell_type": "markdown",
      "source": [
        "# Agentes"
      ],
      "metadata": {
        "id": "tulfFZUK7eiy"
      }
    },
    {
      "cell_type": "code",
      "source": [
        "planejador = Agent(\n",
        "    role=\"Planejador de postagem\",\n",
        "    goal=\"Planejar conteúdo envolvente para instagram sobre {topic}\",\n",
        "    backstory=\"Você está trabalhando no planejamento de {n} posts para o instagram \"\n",
        "              \"sobre o tema: {topic}. \"\n",
        "              \"Você coleta informações que ajudam o \"\n",
        "              \"público se informar sobre {topic}. \"\n",
        "              \"Seu trabalho é a base para que \"\n",
        "              \"o Pesquisador de Conteúdo procure na web sobre {topic}.\",\n",
        "    verbose=True,\n",
        "    llm=llm,\n",
        "    allow_delegation=False,\n",
        "    memory=True\n",
        ")\n"
      ],
      "metadata": {
        "id": "uYyUcTw-6DJ2"
      },
      "execution_count": 8,
      "outputs": []
    },
    {
      "cell_type": "code",
      "source": [
        "pesquisador = Agent(\n",
        "    role='Pesquisador',\n",
        "    goal='Pesquisar tendências para postagens sobre {topic} na área '\n",
        "         'de tecnologia com base no planejamento do Planejador. '\n",
        "         'Seu trabalho é a base para que '\n",
        "         'o escritor possa escrever {n} posts sobre {topic}',\n",
        "    verbose=True,\n",
        "    backstory=\"Você é um pesquisador experiente, sempre em busca das últimas tendências e informações relevantes sobre {topic}.\",\n",
        "    llm=llm,\n",
        "    tools=[ainew, forbes],\n",
        "    allow_delegation=False,\n",
        "    max_retry_limit = 2,\n",
        "    max_execution_time = 60,\n",
        "    memory=True\n",
        ")"
      ],
      "metadata": {
        "id": "ZcLj2NCZ651M"
      },
      "execution_count": 9,
      "outputs": []
    },
    {
      "cell_type": "code",
      "source": [
        "escritor = Agent(\n",
        "    role='Escritor',\n",
        "    goal='Escrever {n} postagens cativantes em português do Brasil para o Instagram sobre {topic} com no mínimo 250 palavras e no máximo 350 palavras.'\n",
        "         'Seu trabalho é a base para que o fotografo possa escrever prompts de imagens para os {n} posts',\n",
        "    backstory=\"Você é um escritor criativo, capaz de transformar informações em conteúdo atraente para postagens no Instagram.\",\n",
        "    llm=llm,\n",
        "    verbose=True,\n",
        "    allow_delegation=False,\n",
        "    memory=True\n",
        ")\n"
      ],
      "metadata": {
        "id": "1joKziGi7E2g"
      },
      "execution_count": 10,
      "outputs": []
    },
    {
      "cell_type": "code",
      "source": [
        "gerente = Agent(\n",
        "    role='Gerente de postagens',\n",
        "    goal=(\"\"\"Supervisione o trabalho de uma equipe de postagens no Instagram. Você é bem crítico em relação\n",
        "            ao que vai ser postado no Instagram da empresa de notícias na área da tecnologia.\n",
        "            Você delegará tarefas à sua equipe e fará perguntas esclarecedoras\n",
        "            para revisar e aprovar as {n} posts sobre {topic} que foram solicitadas pela direção da empresa.\"\"\"),\n",
        "    backstory=(\"\"\"Você é um gerente experiente, sempre em busca das últimas tendências e informações relevantes.\n",
        "                 Você está trabalhando com uma nova demanda e faz com que sua equipe realize o trabalho da\n",
        "                 melhor forma possível.\"\"\"),\n",
        "    llm=llm,\n",
        "    verbose=True,\n",
        "    memory=True\n",
        "\n",
        ")\n"
      ],
      "metadata": {
        "id": "FkiQdECR7V6r"
      },
      "execution_count": 12,
      "outputs": []
    },
    {
      "cell_type": "markdown",
      "source": [
        "# Tarefas"
      ],
      "metadata": {
        "id": "H-6kVmni73Wj"
      }
    },
    {
      "cell_type": "code",
      "source": [
        "plano_task = Task(\n",
        "    description=(\n",
        "        \"1. Priorize as últimas tendências, principais 'players', \"\n",
        "            \"e notícias relevantes sobre {topic}.\\n\"\n",
        "        \"2. Identifique o público-alvo, considerando \"\n",
        "            \"seus interesses e pontos de dor.\\n\"\n",
        "        \"3. Desenvolva um plano de conteúdo detalhado, incluindo \"\n",
        "            \"uma introdução, pontos principais e um chamado à ação.\\n\"\n",
        "        \"4. Inclua palavras-chave de SEO e dados ou fontes relevantes.\"\n",
        "    ),\n",
        "    expected_output=\"Um documento de plano de conteúdo para {n} posts sobre {topic} \"\n",
        "        \"com um esboço, análise do público, \"\n",
        "        \"palavras-chave de SEO e recursos.\",\n",
        "    agent=planejador,\n",
        "    verbose=True\n",
        ")"
      ],
      "metadata": {
        "id": "T3MGa0hh7tkA"
      },
      "execution_count": 13,
      "outputs": []
    },
    {
      "cell_type": "code",
      "source": [
        "pesquisa_task = Task(\n",
        "    description=\"Pesquise as últimas tendências sobre {topic}.\",\n",
        "    expected_output=\"Um relatório detalhado sobre as tendências mais recentes sobre {topic} na área de tecnologia.\",\n",
        "    agent=pesquisador,\n",
        "    verbose=True,\n",
        "    context=[plano_task]\n",
        ")"
      ],
      "metadata": {
        "id": "6Jibi6lm76RP"
      },
      "execution_count": 14,
      "outputs": []
    },
    {
      "cell_type": "code",
      "source": [
        "escrita_task = Task(\n",
        "    description=(\"\"\"Escreva {n} postagens envolventes em português do Brasil\n",
        "                        com base nas tendências pesquisadas sobre {topic} com no mínimo 250 palavras e no máximo 350 palavras cada.\n",
        "                        Cada post deve ser formatado como:\n",
        "                        \\n\\nPOST:\\ntexto do post em português do brasil\n",
        "                        \\n\\nPROMPT:\\nPrompt da imagem desse post\\n\\n\"\"\"),\n",
        "    expected_output=\"{n} postagens de Instagram bem escritas, atraentes e em português do Brasil, formatadas conforme especificado para o tópico {topic}.\",\n",
        "    agent=escritor,\n",
        "    verbose=True,\n",
        "    context=[plano_task, pesquisa_task]\n",
        ")\n"
      ],
      "metadata": {
        "id": "zveWI5Lx7-sj"
      },
      "execution_count": 16,
      "outputs": []
    },
    {
      "cell_type": "code",
      "source": [
        "revisao_task = Task(\n",
        "description=(\"\"\"Revise as {n} escritas para as {n} postagens do cliente e garanta\n",
        "                          que as informações de cada postagem estejam organizadas, sem erros e cativantes\n",
        "                          em português do Brasil sobre {topic}.\n",
        "                          Certifique-se de que cada post está formatado como:\n",
        "                          \\n\\nPOST:\\ntexto do post em português do brasil\n",
        "                          \\n\"\"\"),\n",
        "expected_output=\"{n} textos organizados por post, revisados e prontos para serem publicados em português do Brasil, formatados conforme especificado.\",\n",
        "agent=gerente,\n",
        "verbose=True,\n",
        "context=[plano_task, pesquisa_task, escrita_task]\n",
        "\n",
        ")\n",
        "\n"
      ],
      "metadata": {
        "id": "cxAIBjbqG4NG"
      },
      "execution_count": 17,
      "outputs": []
    },
    {
      "cell_type": "markdown",
      "source": [
        "# CRIANDO A TRIPULAÇÃO"
      ],
      "metadata": {
        "id": "OYhCuDw38JmF"
      }
    },
    {
      "cell_type": "code",
      "source": [
        "crew = Crew(\n",
        "    agents=[planejador, pesquisador, escritor, gerente],\n",
        "    tasks=[plano_task, pesquisa_task, escrita_task, revisao_task],\n",
        "    process=Process.sequential,\n",
        "    verbose=True\n",
        ")\n"
      ],
      "metadata": {
        "id": "ZDzJ9Z9J8LIH"
      },
      "execution_count": 18,
      "outputs": []
    },
    {
      "cell_type": "code",
      "source": [
        "result = crew.kickoff(inputs={\n",
        "      'topic':'Inteligencia Artificial',\n",
        "      'n':1})"
      ],
      "metadata": {
        "id": "Bx8sb-xUUpLq"
      },
      "execution_count": null,
      "outputs": []
    },
    {
      "cell_type": "code",
      "source": [
        "from IPython.display import Markdown\n",
        "Markdown(result.raw)"
      ],
      "metadata": {
        "id": "N9BL-EoILolE",
        "colab": {
          "base_uri": "https://localhost:8080/",
          "height": 623
        },
        "outputId": "fb9b95d4-9565-420a-954e-6a3a4ea30b5c"
      },
      "execution_count": 20,
      "outputs": [
        {
          "output_type": "execute_result",
          "data": {
            "text/plain": [
              "<IPython.core.display.Markdown object>"
            ],
            "text/markdown": "## POST:\n\n🤖 **A inteligência artificial está mudando o mundo, e você precisa entender porquê!** 🤖\n\nA IA já está presente em diversas áreas da nossa vida, desde os aplicativos que usamos no celular até os carros autônomos. Mas o que realmente está por trás dessa revolução tecnológica? 🤔\n\n🧠 **A IA aprende e evolui com base em dados, tornando-se cada vez mais inteligente e capaz de realizar tarefas complexas.** \n\n🚀 **E as possibilidades são infinitas!** 🚀\n\n**Veja alguns exemplos:**\n\n* **IA Generativa:** Criando imagens, textos e músicas incríveis com ferramentas como ChatGPT, DALL-E e Midjourney. 🎨\n* **IA na Saúde:** Diagnósticos mais precisos, tratamentos personalizados e descobertas de novas curas. 🏥\n* **IA na Indústria:** Automação de processos, otimização da produção e aumento da segurança. 🏭\n* **IA na Educação:** Personalização do aprendizado, ferramentas de ensino inovadoras e acesso à educação de qualidade para todos. 📚\n\n**O futuro da IA é promissor, mas também exige atenção.** ⚠️\n\nÉ fundamental discutir os impactos da IA na sociedade, como a ética do uso de dados e a necessidade de garantir que a tecnologia seja utilizada para o bem de todos. 🤝\n\n**Acompanhe nossas próximas postagens para saber mais sobre as tendências e os desafios da inteligência artificial!** \n\n#inteligenciaartificial #IA #futuro #tecnologia #inovacao #chatgpt #dalle #midjourney #saude #industria #educacao #transformacaodigital #oportunidades #desafios #futurodatecnologia #IAgenerativa #etica #dados #sociedade \n\n\n## PROMPT:\n\nUma imagem abstrata e futurista que represente a inteligência artificial. A imagem pode ser composta por linhas, formas geométricas, cores vibrantes e elementos que evoquem a ideia de algoritmos, dados, conexões e a constante evolução da IA. A imagem deve transmitir a sensação de dinamismo, complexidade e progresso."
          },
          "metadata": {},
          "execution_count": 20
        }
      ]
    }
  ]
}